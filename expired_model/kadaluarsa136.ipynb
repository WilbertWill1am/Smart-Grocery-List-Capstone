{
 "cells": [
  {
   "cell_type": "code",
   "execution_count": 1,
   "metadata": {},
   "outputs": [],
   "source": [
    "import pandas as pd\n",
    "import matplotlib.pyplot as plt\n",
    "from sklearn.preprocessing import LabelEncoder\n",
    "import tensorflow as tf\n",
    "from tensorflow.keras.models import Sequential\n",
    "from tensorflow.keras.layers import Dense"
   ]
  },
  {
   "cell_type": "code",
   "execution_count": 2,
   "metadata": {},
   "outputs": [],
   "source": [
    "# Step 1: Prepare the Dataset\n",
    "df = pd.read_csv('kadaluarsa3.csv')\n",
    "df['expiry_days_room'] = pd.to_numeric(df['expiry_days_room'], errors='coerce')\n",
    "df['expiry_days_fridge'] = pd.to_numeric(df['expiry_days_fridge'], errors='coerce')\n",
    "df['expiry_days_freezer'] = pd.to_numeric(df['expiry_days_freezer'], errors='coerce')\n",
    "df['expired'] = df[['expiry_days_room', 'expiry_days_fridge', 'expiry_days_freezer']].apply(lambda x: x.min() <= 0, axis=1)\n",
    "\n",
    "# One-hot encoding\n",
    "label_encoder = LabelEncoder()\n",
    "df['expired'] = label_encoder.fit_transform(df['expired'])"
   ]
  },
  {
   "cell_type": "code",
   "execution_count": 3,
   "metadata": {},
   "outputs": [],
   "source": [
    "# Step 2: Prepare the input features (X) and target variable (y)\n",
    "X = df[['expiry_days_room', 'expiry_days_fridge', 'expiry_days_freezer']].values\n",
    "y = df['expired'].values"
   ]
  },
  {
   "cell_type": "code",
   "execution_count": 4,
   "metadata": {},
   "outputs": [],
   "source": [
    "# Step 3: Build the Model\n",
    "model = Sequential()\n",
    "model.add(Dense(10, input_dim=3, activation='relu'))\n",
    "model.add(Dense(1, activation='sigmoid'))\n",
    "\n",
    "# Compile the model\n",
    "model.compile(optimizer='adam', loss='binary_crossentropy', metrics=['accuracy'])"
   ]
  },
  {
   "cell_type": "code",
   "execution_count": 5,
   "metadata": {},
   "outputs": [
    {
     "name": "stdout",
     "output_type": "stream",
     "text": [
      "Epoch 1/50\n",
      "3/3 [==============================] - 1s 8ms/step - loss: 41.8420 - accuracy: 0.0263\n",
      "Epoch 2/50\n",
      "3/3 [==============================] - 0s 5ms/step - loss: 39.7013 - accuracy: 0.0263\n",
      "Epoch 3/50\n",
      "3/3 [==============================] - 0s 17ms/step - loss: 37.2197 - accuracy: 0.0263\n",
      "Epoch 4/50\n",
      "3/3 [==============================] - 0s 7ms/step - loss: 34.8477 - accuracy: 0.0526\n",
      "Epoch 5/50\n",
      "3/3 [==============================] - 0s 5ms/step - loss: 32.6269 - accuracy: 0.0526\n",
      "Epoch 6/50\n",
      "3/3 [==============================] - 0s 4ms/step - loss: 30.2353 - accuracy: 0.0658\n",
      "Epoch 7/50\n",
      "3/3 [==============================] - 0s 7ms/step - loss: 28.2853 - accuracy: 0.0658\n",
      "Epoch 8/50\n",
      "3/3 [==============================] - 0s 5ms/step - loss: 25.8924 - accuracy: 0.0658\n",
      "Epoch 9/50\n",
      "3/3 [==============================] - 0s 4ms/step - loss: 23.6290 - accuracy: 0.0789\n",
      "Epoch 10/50\n",
      "3/3 [==============================] - 0s 5ms/step - loss: 21.3167 - accuracy: 0.0789\n",
      "Epoch 11/50\n",
      "3/3 [==============================] - 0s 5ms/step - loss: 19.1529 - accuracy: 0.2368\n",
      "Epoch 12/50\n",
      "3/3 [==============================] - 0s 6ms/step - loss: 16.9539 - accuracy: 0.4211\n",
      "Epoch 13/50\n",
      "3/3 [==============================] - 0s 5ms/step - loss: 14.4635 - accuracy: 0.4868\n",
      "Epoch 14/50\n",
      "3/3 [==============================] - 0s 4ms/step - loss: 12.2794 - accuracy: 0.5132\n",
      "Epoch 15/50\n",
      "3/3 [==============================] - 0s 5ms/step - loss: 10.2202 - accuracy: 0.5132\n",
      "Epoch 16/50\n",
      "3/3 [==============================] - 0s 4ms/step - loss: 7.7313 - accuracy: 0.5526\n",
      "Epoch 17/50\n",
      "3/3 [==============================] - 0s 7ms/step - loss: 5.4529 - accuracy: 0.7368\n",
      "Epoch 18/50\n",
      "3/3 [==============================] - 0s 8ms/step - loss: 3.3645 - accuracy: 0.7368\n",
      "Epoch 19/50\n",
      "3/3 [==============================] - 0s 6ms/step - loss: 1.3682 - accuracy: 0.8289\n",
      "Epoch 20/50\n",
      "3/3 [==============================] - 0s 6ms/step - loss: 0.9023 - accuracy: 0.9211\n",
      "Epoch 21/50\n",
      "3/3 [==============================] - 0s 6ms/step - loss: 0.8282 - accuracy: 0.9211\n",
      "Epoch 22/50\n",
      "3/3 [==============================] - 0s 5ms/step - loss: 0.7785 - accuracy: 0.9211\n",
      "Epoch 23/50\n",
      "3/3 [==============================] - 0s 4ms/step - loss: 0.7427 - accuracy: 0.9211\n",
      "Epoch 24/50\n",
      "3/3 [==============================] - 0s 5ms/step - loss: 0.7110 - accuracy: 0.9211\n",
      "Epoch 25/50\n",
      "3/3 [==============================] - 0s 5ms/step - loss: 0.6848 - accuracy: 0.9211\n",
      "Epoch 26/50\n",
      "3/3 [==============================] - 0s 6ms/step - loss: 0.6635 - accuracy: 0.9211\n",
      "Epoch 27/50\n",
      "3/3 [==============================] - 0s 6ms/step - loss: 0.6472 - accuracy: 0.9211\n",
      "Epoch 28/50\n",
      "3/3 [==============================] - 0s 9ms/step - loss: 0.6306 - accuracy: 0.9211\n",
      "Epoch 29/50\n",
      "3/3 [==============================] - 0s 7ms/step - loss: 0.6198 - accuracy: 0.9211\n",
      "Epoch 30/50\n",
      "3/3 [==============================] - 0s 7ms/step - loss: 0.6061 - accuracy: 0.9211\n",
      "Epoch 31/50\n",
      "3/3 [==============================] - 0s 7ms/step - loss: 0.5954 - accuracy: 0.9211\n",
      "Epoch 32/50\n",
      "3/3 [==============================] - 0s 7ms/step - loss: 0.5861 - accuracy: 0.9211\n",
      "Epoch 33/50\n",
      "3/3 [==============================] - 0s 7ms/step - loss: 0.5740 - accuracy: 0.9211\n",
      "Epoch 34/50\n",
      "3/3 [==============================] - 0s 5ms/step - loss: 0.5643 - accuracy: 0.9211\n",
      "Epoch 35/50\n",
      "3/3 [==============================] - 0s 8ms/step - loss: 0.5556 - accuracy: 0.9211\n",
      "Epoch 36/50\n",
      "3/3 [==============================] - 0s 7ms/step - loss: 0.5453 - accuracy: 0.9211\n",
      "Epoch 37/50\n",
      "3/3 [==============================] - 0s 4ms/step - loss: 0.5370 - accuracy: 0.9211\n",
      "Epoch 38/50\n",
      "3/3 [==============================] - 0s 7ms/step - loss: 0.5266 - accuracy: 0.9211\n",
      "Epoch 39/50\n",
      "3/3 [==============================] - 0s 7ms/step - loss: 0.5170 - accuracy: 0.9211\n",
      "Epoch 40/50\n",
      "3/3 [==============================] - 0s 6ms/step - loss: 0.5078 - accuracy: 0.9211\n",
      "Epoch 41/50\n",
      "3/3 [==============================] - 0s 8ms/step - loss: 0.4986 - accuracy: 0.9211\n",
      "Epoch 42/50\n",
      "3/3 [==============================] - 0s 6ms/step - loss: 0.4887 - accuracy: 0.9211\n",
      "Epoch 43/50\n",
      "3/3 [==============================] - 0s 8ms/step - loss: 0.4811 - accuracy: 0.9211\n",
      "Epoch 44/50\n",
      "3/3 [==============================] - 0s 8ms/step - loss: 0.4713 - accuracy: 0.9211\n",
      "Epoch 45/50\n",
      "3/3 [==============================] - 0s 7ms/step - loss: 0.4623 - accuracy: 0.9211\n",
      "Epoch 46/50\n",
      "3/3 [==============================] - 0s 7ms/step - loss: 0.4554 - accuracy: 0.9211\n",
      "Epoch 47/50\n",
      "3/3 [==============================] - 0s 6ms/step - loss: 0.4451 - accuracy: 0.9211\n",
      "Epoch 48/50\n",
      "3/3 [==============================] - 0s 8ms/step - loss: 0.4375 - accuracy: 0.9211\n",
      "Epoch 49/50\n",
      "3/3 [==============================] - 0s 5ms/step - loss: 0.4292 - accuracy: 0.9211\n",
      "Epoch 50/50\n",
      "3/3 [==============================] - 0s 6ms/step - loss: 0.4215 - accuracy: 0.9211\n"
     ]
    }
   ],
   "source": [
    "# Step 4: Train the Model\n",
    "history = model.fit(X, y, epochs=50, batch_size=32, verbose=1)"
   ]
  },
  {
   "cell_type": "code",
   "execution_count": 6,
   "metadata": {},
   "outputs": [
    {
     "data": {
      "image/png": "[encoded data removed]",
      "text/plain": [
       "<Figure size 1200x400 with 2 Axes>"
      ]
     },
     "metadata": {},
     "output_type": "display_data"
    }
   ],
   "source": [
    "# Step 5: Plot Loss and Accuracy\n",
    "plt.figure(figsize=(12, 4))\n",
    "\n",
    "# Plot Loss\n",
    "plt.subplot(1, 2, 1)\n",
    "plt.plot(history.history['loss'])\n",
    "plt.title('Model Loss')\n",
    "plt.xlabel('Epochs')\n",
    "plt.ylabel('Loss')\n",
    "\n",
    "# Plot Accuracy\n",
    "plt.subplot(1, 2, 2)\n",
    "plt.plot(history.history['accuracy'])\n",
    "plt.title('Model Accuracy')\n",
    "plt.xlabel('Epochs')\n",
    "plt.ylabel('Accuracy')\n",
    "\n",
    "plt.tight_layout()\n",
    "plt.show()"
   ]
  },
  {
   "cell_type": "code",
   "execution_count": 12,
   "metadata": {},
   "outputs": [
    {
     "name": "stdout",
     "output_type": "stream",
     "text": [
      "Item 'Apples' with storage type 'room' has expired on: 06-18-2022.\n"
     ]
    }
   ],
   "source": [
    "# Step 6: Perform Prediction\n",
    "item = input(\"Enter the fresh food item: \")\n",
    "storage = input(\"Enter the storage type (room/fridge/freezer): \")\n",
    "purchase_date = input(\"Enter the purchase date (mm-dd-yyyy): \")\n",
    "\n",
    "storage_mapping = {\n",
    "    'room': 'expiry_days_room',\n",
    "    'fridge': 'expiry_days_fridge',\n",
    "    'freezer': 'expiry_days_freezer'\n",
    "}\n",
    "\n",
    "item_data = df[df['item'] == item]\n",
    "if item_data.empty:\n",
    "    print(f\"Item '{item}' is not found in the dataset.\")\n",
    "else:\n",
    "    if storage not in storage_mapping:\n",
    "        print(\"Invalid storage type.\")\n",
    "        exit()\n",
    "\n",
    "    expiry_days = int(item_data[storage_mapping[storage]].values[0])\n",
    "    if expiry_days == -1:\n",
    "        print(f\"Item '{item}' with storage type '{storage}' has no expiry date information.\")\n",
    "    else:\n",
    "        expiry_date = pd.to_datetime(purchase_date) + pd.DateOffset(days=int(expiry_days))\n",
    "        today = pd.Timestamp.now().normalize()\n",
    "\n",
    "        if expiry_date >= today:\n",
    "            print(f\"Item '{item}' with storage type '{storage}' will expire on: {expiry_date.strftime('%m-%d-%Y')}.\")\n",
    "        else:\n",
    "            print(f\"Item '{item}' with storage type '{storage}' has expired on: {expiry_date.strftime('%m-%d-%Y')}.\")\n"
   ]
  },
  {
   "cell_type": "code",
   "execution_count": null,
   "metadata": {},
   "outputs": [],
   "source": []
  }
 ],
 "metadata": {
  "kernelspec": {
   "display_name": "Python 3",
   "language": "python",
   "name": "python3"
  },
  "language_info": {
   "codemirror_mode": {
    "name": "ipython",
    "version": 3
   },
   "file_extension": ".py",
   "mimetype": "text/x-python",
   "name": "python",
   "nbconvert_exporter": "python",
   "pygments_lexer": "ipython3",
   "version": "3.10.5"
  },
  "orig_nbformat": 4
 },
 "nbformat": 4,
 "nbformat_minor": 2
}
