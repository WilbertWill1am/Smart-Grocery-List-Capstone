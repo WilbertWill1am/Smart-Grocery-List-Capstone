{
 "cells": [
  {
   "cell_type": "code",
   "execution_count": 330,
   "metadata": {},
   "outputs": [],
   "source": [
    "import pandas as pd\n",
    "import tensorflow as tf\n",
    "import numpy as np\n",
    "from sklearn.preprocessing import LabelEncoder, MinMaxScaler"
   ]
  },
  {
   "cell_type": "code",
   "execution_count": 331,
   "metadata": {},
   "outputs": [],
   "source": [
    "# Membaca dataset dari file CSV\n",
    "df = pd.read_csv('book2.csv', delimiter=';')\n",
    "\n",
    "# Mengubah format tanggal menjadi datetime\n",
    "df['Tanggal Pembelian'] = pd.to_datetime(df['Tanggal Pembelian'], format= 'mixed')\n",
    "\n",
    "# Membuat kolom 'Month' untuk menyimpan bulan dari tanggal pembelian\n",
    "df['Month'] = df['Tanggal Pembelian'].dt.month\n",
    "\n",
    "# Menormalisasi kolom 'Inventaris' menggunakan MinMaxScaler\n",
    "scaler = MinMaxScaler()\n",
    "df['Inventaris'] = scaler.fit_transform(df['Inventaris'].values.reshape(-1, 1))\n",
    "\n",
    "# Mengubah kategori item pembelian menjadi angka\n",
    "df['Item Pembelian'] = pd.Categorical(df['Item Pembelian'])\n",
    "df['Item Code'] = df['Item Pembelian'].cat.codes"
   ]
  },
  {
   "cell_type": "code",
   "execution_count": 332,
   "metadata": {},
   "outputs": [
    {
     "name": "stdout",
     "output_type": "stream",
     "text": [
      "0      telur\n",
      "1     daging\n",
      "2       ayam\n",
      "3       susu\n",
      "4        oil\n",
      "       ...  \n",
      "94    rempah\n",
      "95      gula\n",
      "96      cabe\n",
      "97      ikan\n",
      "98    sarden\n",
      "Name: Item Pembelian, Length: 99, dtype: category\n",
      "Categories (19, object): ['anggur', 'ayam', 'bayam', 'beras', ..., 'susu', 'telur', 'tomat', 'wortel']\n"
     ]
    }
   ],
   "source": [
    "print(df['Item Pembelian'])"
   ]
  },
  {
   "cell_type": "code",
   "execution_count": 333,
   "metadata": {},
   "outputs": [
    {
     "name": "stdout",
     "output_type": "stream",
     "text": [
      "0     16\n",
      "1      6\n",
      "2      1\n",
      "3     15\n",
      "4     11\n",
      "      ..\n",
      "94    13\n",
      "95     7\n",
      "96     5\n",
      "97     8\n",
      "98    14\n",
      "Name: Item Code, Length: 99, dtype: int8\n"
     ]
    }
   ],
   "source": [
    "print(df['Item Code'])"
   ]
  },
  {
   "cell_type": "code",
   "execution_count": 334,
   "metadata": {},
   "outputs": [
    {
     "name": "stdout",
     "output_type": "stream",
     "text": [
      "0      1\n",
      "1      1\n",
      "2      1\n",
      "3      1\n",
      "4      1\n",
      "      ..\n",
      "94    10\n",
      "95    10\n",
      "96    10\n",
      "97    10\n",
      "98    10\n",
      "Name: Month, Length: 99, dtype: int32\n"
     ]
    }
   ],
   "source": [
    "print(df['Month'])"
   ]
  },
  {
   "cell_type": "code",
   "execution_count": 335,
   "metadata": {},
   "outputs": [],
   "source": [
    "# Membagi dataset menjadi data latih dan data uji\n",
    "train_size = int(0.8 * len(df))\n",
    "train_features = features[:train_size]\n",
    "train_target = target[:train_size]\n",
    "test_features = features[train_size:]\n",
    "test_target = target[train_size:]"
   ]
  },
  {
   "cell_type": "code",
   "execution_count": 336,
   "metadata": {},
   "outputs": [],
   "source": [
    "# Membuat model sequential menggunakan TensorFlow\n",
    "model = tf.keras.Sequential([\n",
    "    tf.keras.layers.Dense(32, activation='relu', input_shape=[2,]),\n",
    "    tf.keras.layers.Dense(32, activation='relu'),\n",
    "    tf.keras.layers.Dense(1)\n",
    "])\n",
    "\n",
    "# Mengompilasi model dengan optimizer dan loss function yang sesuai\n",
    "# Mengompilasi model dengan optimizer, loss function, dan metrik MAE\n",
    "model.compile(optimizer='adam', loss='mae', metrics=['mae'])"
   ]
  },
  {
   "cell_type": "code",
   "execution_count": 337,
   "metadata": {},
   "outputs": [
    {
     "name": "stdout",
     "output_type": "stream",
     "text": [
      "Epoch 1/100\n",
      "3/3 [==============================] - 1s 3ms/step - loss: 2.5142 - mae: 2.5142\n",
      "Epoch 2/100\n",
      "3/3 [==============================] - 0s 3ms/step - loss: 2.0393 - mae: 2.0393\n",
      "Epoch 3/100\n",
      "3/3 [==============================] - 0s 4ms/step - loss: 1.6131 - mae: 1.6131\n",
      "Epoch 4/100\n",
      "3/3 [==============================] - 0s 4ms/step - loss: 1.2621 - mae: 1.2621\n",
      "Epoch 5/100\n",
      "3/3 [==============================] - 0s 6ms/step - loss: 0.9810 - mae: 0.9810\n",
      "Epoch 6/100\n",
      "3/3 [==============================] - 0s 6ms/step - loss: 0.8133 - mae: 0.8133\n",
      "Epoch 7/100\n",
      "3/3 [==============================] - 0s 5ms/step - loss: 0.6626 - mae: 0.6626\n",
      "Epoch 8/100\n",
      "3/3 [==============================] - 0s 7ms/step - loss: 0.6258 - mae: 0.6258\n",
      "Epoch 9/100\n",
      "3/3 [==============================] - 0s 5ms/step - loss: 0.6206 - mae: 0.6206\n",
      "Epoch 10/100\n",
      "3/3 [==============================] - 0s 8ms/step - loss: 0.5684 - mae: 0.5684\n",
      "Epoch 11/100\n",
      "3/3 [==============================] - 0s 6ms/step - loss: 0.4766 - mae: 0.4766\n",
      "Epoch 12/100\n",
      "3/3 [==============================] - 0s 5ms/step - loss: 0.3512 - mae: 0.3512\n",
      "Epoch 13/100\n",
      "3/3 [==============================] - 0s 5ms/step - loss: 0.3106 - mae: 0.3106\n",
      "Epoch 14/100\n",
      "3/3 [==============================] - 0s 5ms/step - loss: 0.3050 - mae: 0.3050\n",
      "Epoch 15/100\n",
      "3/3 [==============================] - 0s 6ms/step - loss: 0.2964 - mae: 0.2964\n",
      "Epoch 16/100\n",
      "3/3 [==============================] - 0s 4ms/step - loss: 0.2761 - mae: 0.2761\n",
      "Epoch 17/100\n",
      "3/3 [==============================] - 0s 4ms/step - loss: 0.2724 - mae: 0.2724\n",
      "Epoch 18/100\n",
      "3/3 [==============================] - 0s 5ms/step - loss: 0.2722 - mae: 0.2722\n",
      "Epoch 19/100\n",
      "3/3 [==============================] - 0s 4ms/step - loss: 0.2642 - mae: 0.2642\n",
      "Epoch 20/100\n",
      "3/3 [==============================] - 0s 4ms/step - loss: 0.2589 - mae: 0.2589\n",
      "Epoch 21/100\n",
      "3/3 [==============================] - 0s 5ms/step - loss: 0.2601 - mae: 0.2601\n",
      "Epoch 22/100\n",
      "3/3 [==============================] - 0s 5ms/step - loss: 0.2588 - mae: 0.2588\n",
      "Epoch 23/100\n",
      "3/3 [==============================] - 0s 4ms/step - loss: 0.2561 - mae: 0.2561\n",
      "Epoch 24/100\n",
      "3/3 [==============================] - 0s 4ms/step - loss: 0.2544 - mae: 0.2544\n",
      "Epoch 25/100\n",
      "3/3 [==============================] - 0s 6ms/step - loss: 0.2535 - mae: 0.2535\n",
      "Epoch 26/100\n",
      "3/3 [==============================] - 0s 6ms/step - loss: 0.2533 - mae: 0.2533\n",
      "Epoch 27/100\n",
      "3/3 [==============================] - 0s 5ms/step - loss: 0.2523 - mae: 0.2523\n",
      "Epoch 28/100\n",
      "3/3 [==============================] - 0s 6ms/step - loss: 0.2519 - mae: 0.2519\n",
      "Epoch 29/100\n",
      "3/3 [==============================] - 0s 4ms/step - loss: 0.2518 - mae: 0.2518\n",
      "Epoch 30/100\n",
      "3/3 [==============================] - 0s 6ms/step - loss: 0.2510 - mae: 0.2510\n",
      "Epoch 31/100\n",
      "3/3 [==============================] - 0s 4ms/step - loss: 0.2504 - mae: 0.2504\n",
      "Epoch 32/100\n",
      "3/3 [==============================] - 0s 4ms/step - loss: 0.2496 - mae: 0.2496\n",
      "Epoch 33/100\n",
      "3/3 [==============================] - 0s 4ms/step - loss: 0.2493 - mae: 0.2493\n",
      "Epoch 34/100\n",
      "3/3 [==============================] - 0s 4ms/step - loss: 0.2495 - mae: 0.2495\n",
      "Epoch 35/100\n",
      "3/3 [==============================] - 0s 4ms/step - loss: 0.2486 - mae: 0.2486\n",
      "Epoch 36/100\n",
      "3/3 [==============================] - 0s 4ms/step - loss: 0.2494 - mae: 0.2494\n",
      "Epoch 37/100\n",
      "3/3 [==============================] - 0s 3ms/step - loss: 0.2489 - mae: 0.2489\n",
      "Epoch 38/100\n",
      "3/3 [==============================] - 0s 3ms/step - loss: 0.2480 - mae: 0.2480\n",
      "Epoch 39/100\n",
      "3/3 [==============================] - 0s 8ms/step - loss: 0.2496 - mae: 0.2496\n",
      "Epoch 40/100\n",
      "3/3 [==============================] - 0s 6ms/step - loss: 0.2471 - mae: 0.2471\n",
      "Epoch 41/100\n",
      "3/3 [==============================] - 0s 4ms/step - loss: 0.2471 - mae: 0.2471\n",
      "Epoch 42/100\n",
      "3/3 [==============================] - 0s 3ms/step - loss: 0.2468 - mae: 0.2468\n",
      "Epoch 43/100\n",
      "3/3 [==============================] - 0s 3ms/step - loss: 0.2462 - mae: 0.2462\n",
      "Epoch 44/100\n",
      "3/3 [==============================] - 0s 3ms/step - loss: 0.2461 - mae: 0.2461\n",
      "Epoch 45/100\n",
      "3/3 [==============================] - 0s 3ms/step - loss: 0.2450 - mae: 0.2450\n",
      "Epoch 46/100\n",
      "3/3 [==============================] - 0s 3ms/step - loss: 0.2477 - mae: 0.2477\n",
      "Epoch 47/100\n",
      "3/3 [==============================] - 0s 4ms/step - loss: 0.2462 - mae: 0.2462\n",
      "Epoch 48/100\n",
      "3/3 [==============================] - 0s 4ms/step - loss: 0.2452 - mae: 0.2452\n",
      "Epoch 49/100\n",
      "3/3 [==============================] - 0s 4ms/step - loss: 0.2440 - mae: 0.2440\n",
      "Epoch 50/100\n",
      "3/3 [==============================] - 0s 4ms/step - loss: 0.2438 - mae: 0.2438\n",
      "Epoch 51/100\n",
      "3/3 [==============================] - 0s 4ms/step - loss: 0.2442 - mae: 0.2442\n",
      "Epoch 52/100\n",
      "3/3 [==============================] - 0s 3ms/step - loss: 0.2436 - mae: 0.2436\n",
      "Epoch 53/100\n",
      "3/3 [==============================] - 0s 4ms/step - loss: 0.2435 - mae: 0.2435\n",
      "Epoch 54/100\n",
      "3/3 [==============================] - 0s 4ms/step - loss: 0.2428 - mae: 0.2428\n",
      "Epoch 55/100\n",
      "3/3 [==============================] - 0s 5ms/step - loss: 0.2453 - mae: 0.2453\n",
      "Epoch 56/100\n",
      "3/3 [==============================] - 0s 4ms/step - loss: 0.2480 - mae: 0.2480\n",
      "Epoch 57/100\n",
      "3/3 [==============================] - 0s 4ms/step - loss: 0.2494 - mae: 0.2494\n",
      "Epoch 58/100\n",
      "3/3 [==============================] - 0s 3ms/step - loss: 0.2461 - mae: 0.2461\n",
      "Epoch 59/100\n",
      "3/3 [==============================] - 0s 3ms/step - loss: 0.2413 - mae: 0.2413\n",
      "Epoch 60/100\n",
      "3/3 [==============================] - 0s 3ms/step - loss: 0.2431 - mae: 0.2431\n",
      "Epoch 61/100\n",
      "3/3 [==============================] - 0s 4ms/step - loss: 0.2404 - mae: 0.2404\n",
      "Epoch 62/100\n",
      "3/3 [==============================] - 0s 3ms/step - loss: 0.2412 - mae: 0.2412\n",
      "Epoch 63/100\n",
      "3/3 [==============================] - 0s 3ms/step - loss: 0.2416 - mae: 0.2416\n",
      "Epoch 64/100\n",
      "3/3 [==============================] - 0s 4ms/step - loss: 0.2398 - mae: 0.2398\n",
      "Epoch 65/100\n",
      "3/3 [==============================] - 0s 3ms/step - loss: 0.2396 - mae: 0.2396\n",
      "Epoch 66/100\n",
      "3/3 [==============================] - 0s 3ms/step - loss: 0.2390 - mae: 0.2390\n",
      "Epoch 67/100\n",
      "3/3 [==============================] - 0s 3ms/step - loss: 0.2381 - mae: 0.2381\n",
      "Epoch 68/100\n",
      "3/3 [==============================] - 0s 3ms/step - loss: 0.2373 - mae: 0.2373\n",
      "Epoch 69/100\n",
      "3/3 [==============================] - 0s 3ms/step - loss: 0.2365 - mae: 0.2365\n",
      "Epoch 70/100\n",
      "3/3 [==============================] - 0s 3ms/step - loss: 0.2370 - mae: 0.2370\n",
      "Epoch 71/100\n",
      "3/3 [==============================] - 0s 4ms/step - loss: 0.2378 - mae: 0.2378\n",
      "Epoch 72/100\n",
      "3/3 [==============================] - 0s 4ms/step - loss: 0.2362 - mae: 0.2362\n",
      "Epoch 73/100\n",
      "3/3 [==============================] - 0s 3ms/step - loss: 0.2358 - mae: 0.2358\n",
      "Epoch 74/100\n",
      "3/3 [==============================] - 0s 3ms/step - loss: 0.2361 - mae: 0.2361\n",
      "Epoch 75/100\n",
      "3/3 [==============================] - 0s 3ms/step - loss: 0.2347 - mae: 0.2347\n",
      "Epoch 76/100\n",
      "3/3 [==============================] - 0s 4ms/step - loss: 0.2356 - mae: 0.2356\n",
      "Epoch 77/100\n",
      "3/3 [==============================] - 0s 3ms/step - loss: 0.2352 - mae: 0.2352\n",
      "Epoch 78/100\n",
      "3/3 [==============================] - 0s 5ms/step - loss: 0.2331 - mae: 0.2331\n",
      "Epoch 79/100\n",
      "3/3 [==============================] - 0s 3ms/step - loss: 0.2352 - mae: 0.2352\n",
      "Epoch 80/100\n",
      "3/3 [==============================] - 0s 5ms/step - loss: 0.2331 - mae: 0.2331\n",
      "Epoch 81/100\n",
      "3/3 [==============================] - 0s 4ms/step - loss: 0.2332 - mae: 0.2332\n",
      "Epoch 82/100\n",
      "3/3 [==============================] - 0s 6ms/step - loss: 0.2321 - mae: 0.2321\n",
      "Epoch 83/100\n",
      "3/3 [==============================] - 0s 5ms/step - loss: 0.2355 - mae: 0.2355\n",
      "Epoch 84/100\n",
      "3/3 [==============================] - 0s 4ms/step - loss: 0.2320 - mae: 0.2320\n",
      "Epoch 85/100\n",
      "3/3 [==============================] - 0s 6ms/step - loss: 0.2322 - mae: 0.2322\n",
      "Epoch 86/100\n",
      "3/3 [==============================] - 0s 5ms/step - loss: 0.2317 - mae: 0.2317\n",
      "Epoch 87/100\n",
      "3/3 [==============================] - 0s 3ms/step - loss: 0.2310 - mae: 0.2310\n",
      "Epoch 88/100\n",
      "3/3 [==============================] - 0s 3ms/step - loss: 0.2323 - mae: 0.2323\n",
      "Epoch 89/100\n",
      "3/3 [==============================] - 0s 2ms/step - loss: 0.2290 - mae: 0.2290\n",
      "Epoch 90/100\n",
      "3/3 [==============================] - 0s 4ms/step - loss: 0.2320 - mae: 0.2320\n",
      "Epoch 91/100\n",
      "3/3 [==============================] - 0s 4ms/step - loss: 0.2282 - mae: 0.2282\n",
      "Epoch 92/100\n",
      "3/3 [==============================] - 0s 5ms/step - loss: 0.2290 - mae: 0.2290\n",
      "Epoch 93/100\n",
      "3/3 [==============================] - 0s 4ms/step - loss: 0.2281 - mae: 0.2281\n",
      "Epoch 94/100\n",
      "3/3 [==============================] - 0s 6ms/step - loss: 0.2277 - mae: 0.2277\n",
      "Epoch 95/100\n",
      "3/3 [==============================] - 0s 4ms/step - loss: 0.2293 - mae: 0.2293\n",
      "Epoch 96/100\n",
      "3/3 [==============================] - 0s 5ms/step - loss: 0.2272 - mae: 0.2272\n",
      "Epoch 97/100\n",
      "3/3 [==============================] - 0s 4ms/step - loss: 0.2289 - mae: 0.2289\n",
      "Epoch 98/100\n",
      "3/3 [==============================] - 0s 4ms/step - loss: 0.2294 - mae: 0.2294\n",
      "Epoch 99/100\n",
      "3/3 [==============================] - 0s 3ms/step - loss: 0.2279 - mae: 0.2279\n",
      "Epoch 100/100\n",
      "3/3 [==============================] - 0s 4ms/step - loss: 0.2285 - mae: 0.2285\n"
     ]
    }
   ],
   "source": [
    "# Menentukan fitur (bulan) dan target (jumlah inventaris) dari dataset\n",
    "features = df[['Item Code','Month']]\n",
    "target = df['Inventaris']\n",
    "\n",
    "# Melatih model dengan dataset yang ada\n",
    "history=model.fit(features, target, epochs=100, batch_size=33)"
   ]
  },
  {
   "cell_type": "code",
   "execution_count": 338,
   "metadata": {},
   "outputs": [
    {
     "data": {
      "image/png": "[encoded data removed]",
      "text/plain": [
       "<Figure size 640x480 with 1 Axes>"
      ]
     },
     "metadata": {},
     "output_type": "display_data"
    }
   ],
   "source": [
    "import matplotlib.pyplot as plt\n",
    "\n",
    "# Mendapatkan data loss dan MAE dari objek history\n",
    "loss = history.history['loss']\n",
    "mae = history.history['mae']\n",
    "\n",
    "# Membuat plot loss\n",
    "plt.plot(loss, label='Loss')\n",
    "plt.title('Grafik Loss Training')\n",
    "plt.xlabel('Epoch')\n",
    "plt.ylabel('Loss')\n",
    "plt.legend()\n",
    "plt.show()\n"
   ]
  },
  {
   "cell_type": "code",
   "execution_count": 339,
   "metadata": {},
   "outputs": [
    {
     "data": {
      "image/png": "[encoded data removed]",
      "text/plain": [
       "<Figure size 640x480 with 1 Axes>"
      ]
     },
     "metadata": {},
     "output_type": "display_data"
    }
   ],
   "source": [
    "# Membuat plot MAE\n",
    "plt.plot(mae, label='MAE')\n",
    "plt.title('Grafik MAE Training')\n",
    "plt.xlabel('Epoch')\n",
    "plt.ylabel('MAE')\n",
    "plt.legend()\n",
    "plt.show()"
   ]
  },
  {
   "cell_type": "code",
   "execution_count": 340,
   "metadata": {},
   "outputs": [
    {
     "ename": "ValueError",
     "evalue": "in user code:\n\n    File \"c:\\Users\\HP\\AppData\\Local\\Programs\\Python\\Python310\\lib\\site-packages\\keras\\engine\\training.py\", line 2169, in predict_function  *\n        return step_function(self, iterator)\n    File \"c:\\Users\\HP\\AppData\\Local\\Programs\\Python\\Python310\\lib\\site-packages\\keras\\engine\\training.py\", line 2155, in step_function  **\n        outputs = model.distribute_strategy.run(run_step, args=(data,))\n    File \"c:\\Users\\HP\\AppData\\Local\\Programs\\Python\\Python310\\lib\\site-packages\\keras\\engine\\training.py\", line 2143, in run_step  **\n        outputs = model.predict_step(data)\n    File \"c:\\Users\\HP\\AppData\\Local\\Programs\\Python\\Python310\\lib\\site-packages\\keras\\engine\\training.py\", line 2111, in predict_step\n        return self(x, training=False)\n    File \"c:\\Users\\HP\\AppData\\Local\\Programs\\Python\\Python310\\lib\\site-packages\\keras\\utils\\traceback_utils.py\", line 70, in error_handler\n        raise e.with_traceback(filtered_tb) from None\n    File \"c:\\Users\\HP\\AppData\\Local\\Programs\\Python\\Python310\\lib\\site-packages\\keras\\engine\\input_spec.py\", line 280, in assert_input_compatibility\n        raise ValueError(\n\n    ValueError: Exception encountered when calling layer 'sequential_31' (type Sequential).\n    \n    Input 0 of layer \"dense_93\" is incompatible with the layer: expected axis -1 of input shape to have value 2, but received input with shape (None, 1)\n    \n    Call arguments received by layer 'sequential_31' (type Sequential):\n      • inputs=tf.Tensor(shape=(None, 1), dtype=int32)\n      • training=False\n      • mask=None\n",
     "output_type": "error",
     "traceback": [
      "\u001b[1;31m---------------------------------------------------------------------------\u001b[0m",
      "\u001b[1;31mValueError\u001b[0m                                Traceback (most recent call last)",
      "Cell \u001b[1;32mIn[340], line 6\u001b[0m\n\u001b[0;32m      3\u001b[0m target_val \u001b[39m=\u001b[39m df[\u001b[39m'\u001b[39m\u001b[39mInventaris\u001b[39m\u001b[39m'\u001b[39m][:\u001b[39m10\u001b[39m]  \u001b[39m# Contoh: Menggunakan 10 data pertama sebagai data validasi\u001b[39;00m\n\u001b[0;32m      5\u001b[0m \u001b[39m# Melakukan prediksi menggunakan data validasi\u001b[39;00m\n\u001b[1;32m----> 6\u001b[0m predictions \u001b[39m=\u001b[39m model\u001b[39m.\u001b[39;49mpredict(features_val)\n\u001b[0;32m      9\u001b[0m \u001b[39m# Menampilkan hasil evaluasi model\u001b[39;00m\n\u001b[0;32m     10\u001b[0m evaluation \u001b[39m=\u001b[39m model\u001b[39m.\u001b[39mevaluate(features_val, target_val)\n",
      "File \u001b[1;32mc:\\Users\\HP\\AppData\\Local\\Programs\\Python\\Python310\\lib\\site-packages\\keras\\utils\\traceback_utils.py:70\u001b[0m, in \u001b[0;36mfilter_traceback.<locals>.error_handler\u001b[1;34m(*args, **kwargs)\u001b[0m\n\u001b[0;32m     67\u001b[0m     filtered_tb \u001b[39m=\u001b[39m _process_traceback_frames(e\u001b[39m.\u001b[39m__traceback__)\n\u001b[0;32m     68\u001b[0m     \u001b[39m# To get the full stack trace, call:\u001b[39;00m\n\u001b[0;32m     69\u001b[0m     \u001b[39m# `tf.debugging.disable_traceback_filtering()`\u001b[39;00m\n\u001b[1;32m---> 70\u001b[0m     \u001b[39mraise\u001b[39;00m e\u001b[39m.\u001b[39mwith_traceback(filtered_tb) \u001b[39mfrom\u001b[39;00m \u001b[39mNone\u001b[39;00m\n\u001b[0;32m     71\u001b[0m \u001b[39mfinally\u001b[39;00m:\n\u001b[0;32m     72\u001b[0m     \u001b[39mdel\u001b[39;00m filtered_tb\n",
      "File \u001b[1;32m~\\AppData\\Local\\Temp\\__autograph_generated_fileg14mmbnm.py:15\u001b[0m, in \u001b[0;36mouter_factory.<locals>.inner_factory.<locals>.tf__predict_function\u001b[1;34m(iterator)\u001b[0m\n\u001b[0;32m     13\u001b[0m \u001b[39mtry\u001b[39;00m:\n\u001b[0;32m     14\u001b[0m     do_return \u001b[39m=\u001b[39m \u001b[39mTrue\u001b[39;00m\n\u001b[1;32m---> 15\u001b[0m     retval_ \u001b[39m=\u001b[39m ag__\u001b[39m.\u001b[39mconverted_call(ag__\u001b[39m.\u001b[39mld(step_function), (ag__\u001b[39m.\u001b[39mld(\u001b[39mself\u001b[39m), ag__\u001b[39m.\u001b[39mld(iterator)), \u001b[39mNone\u001b[39;00m, fscope)\n\u001b[0;32m     16\u001b[0m \u001b[39mexcept\u001b[39;00m:\n\u001b[0;32m     17\u001b[0m     do_return \u001b[39m=\u001b[39m \u001b[39mFalse\u001b[39;00m\n",
      "\u001b[1;31mValueError\u001b[0m: in user code:\n\n    File \"c:\\Users\\HP\\AppData\\Local\\Programs\\Python\\Python310\\lib\\site-packages\\keras\\engine\\training.py\", line 2169, in predict_function  *\n        return step_function(self, iterator)\n    File \"c:\\Users\\HP\\AppData\\Local\\Programs\\Python\\Python310\\lib\\site-packages\\keras\\engine\\training.py\", line 2155, in step_function  **\n        outputs = model.distribute_strategy.run(run_step, args=(data,))\n    File \"c:\\Users\\HP\\AppData\\Local\\Programs\\Python\\Python310\\lib\\site-packages\\keras\\engine\\training.py\", line 2143, in run_step  **\n        outputs = model.predict_step(data)\n    File \"c:\\Users\\HP\\AppData\\Local\\Programs\\Python\\Python310\\lib\\site-packages\\keras\\engine\\training.py\", line 2111, in predict_step\n        return self(x, training=False)\n    File \"c:\\Users\\HP\\AppData\\Local\\Programs\\Python\\Python310\\lib\\site-packages\\keras\\utils\\traceback_utils.py\", line 70, in error_handler\n        raise e.with_traceback(filtered_tb) from None\n    File \"c:\\Users\\HP\\AppData\\Local\\Programs\\Python\\Python310\\lib\\site-packages\\keras\\engine\\input_spec.py\", line 280, in assert_input_compatibility\n        raise ValueError(\n\n    ValueError: Exception encountered when calling layer 'sequential_31' (type Sequential).\n    \n    Input 0 of layer \"dense_93\" is incompatible with the layer: expected axis -1 of input shape to have value 2, but received input with shape (None, 1)\n    \n    Call arguments received by layer 'sequential_31' (type Sequential):\n      • inputs=tf.Tensor(shape=(None, 1), dtype=int32)\n      • training=False\n      • mask=None\n"
     ]
    }
   ],
   "source": [
    "# Mengambil data validasi\n",
    "features_val = df['Month'][:10]  # Contoh: Menggunakan 10 data pertama sebagai data validasi\n",
    "target_val = df['Inventaris'][:10]  # Contoh: Menggunakan 10 data pertama sebagai data validasi\n",
    "\n",
    "# Melakukan prediksi menggunakan data validasi\n",
    "predictions = model.predict(features_val)\n",
    "\n",
    "\n",
    "# Menampilkan hasil evaluasi model\n",
    "evaluation = model.evaluate(features_val, target_val)\n",
    "print(\"Hasil evaluasi model:\")\n",
    "print(f\"Loss: {evaluation[0]}\")\n",
    "print(f\"RMSE: {evaluation[1]}\")\n",
    "\n",
    "# Membuat plot prediksi vs target\n",
    "plt.scatter(features_val, target_val, color='blue', label='Target')\n",
    "plt.scatter(features_val, predictions, color='red', label='Prediksi')\n",
    "plt.title('Prediksi vs Target')\n",
    "plt.xlabel('Month')\n",
    "plt.ylabel('Inventaris')\n",
    "plt.legend()\n",
    "plt.show()\n"
   ]
  },
  {
   "cell_type": "code",
   "execution_count": null,
   "metadata": {},
   "outputs": [],
   "source": [
    "# Menggunakan model untuk memberikan rekomendasi pada tanggal tertentu\n",
    "tanggal_tertentu = pd.to_datetime('2022-10-30', format='%Y-%m-%d')\n",
    "bulan_tertentu = tanggal_tertentu.month\n",
    "\n",
    "# Menggunakan model untuk memprediksi jumlah inventaris pada bulan tertentu\n",
    "prediksi_inventaris = model.predict(np.array([bulan_tertentu]).reshape(-1, 1))\n",
    "\n",
    "\n",
    "# Mencetak rekomendasi item apa yang dibeli dan jumlahnya pada bulan tertentu\n",
    "rekomendasi_index = prediksi_inventaris.argmax()\n",
    "rekomendasi_item = df['Item Pembelian'].cat.categories[rekomendasi_index]\n",
    "rekomendasi_jumlah = int(prediksi_inventaris[rekomendasi_index])\n",
    "print(f\"Rekomendasi untuk bulan {tanggal_tertentu.strftime('%B %Y')}:\")\n",
    "print(f\"Item Pembelian: {rekomendasi_item}\")\n",
    "print(f\"Jumlah: {rekomendasi_jumlah}\")\n"
   ]
  },
  {
   "cell_type": "code",
   "execution_count": null,
   "metadata": {},
   "outputs": [],
   "source": []
  }
 ],
 "metadata": {
  "kernelspec": {
   "display_name": "Python 3",
   "language": "python",
   "name": "python3"
  },
  "language_info": {
   "codemirror_mode": {
    "name": "ipython",
    "version": 3
   },
   "file_extension": ".py",
   "mimetype": "text/x-python",
   "name": "python",
   "nbconvert_exporter": "python",
   "pygments_lexer": "ipython3",
   "version": "3.10.6"
  },
  "orig_nbformat": 4
 },
 "nbformat": 4,
 "nbformat_minor": 2
}
