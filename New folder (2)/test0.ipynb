{
 "cells": [
  {
   "cell_type": "code",
   "execution_count": 227,
   "metadata": {},
   "outputs": [],
   "source": [
    "import pandas as pd\n",
    "from sklearn.metrics.pairwise import cosine_similarity\n"
   ]
  },
  {
   "cell_type": "code",
   "execution_count": 228,
   "metadata": {},
   "outputs": [
    {
     "name": "stdout",
     "output_type": "stream",
     "text": [
      "        ID user_id food_item  jumlah tanggal_beli  stock like\n",
      "0    75836    ibet     Apple       2   01/05/2023      4  0,8\n",
      "1    75836    ibet    Banana       4   15/04/2023      9  0,8\n",
      "2    75836    ibet    Orange       1   19/05/2023      7  0,6\n",
      "3    75836    ibet    Tomato       3   28/04/2023      8  0,4\n",
      "4    75836    ibet     Bread       2   10/05/2023      7  0,9\n",
      "..     ...     ...       ...     ...          ...    ...  ...\n",
      "196  34256    adam      Eggs       2   16/05/2023      6    1\n",
      "197  34256    adam      Milk       1   24/04/2023     12  0,9\n",
      "198  34256    adam      Rice       2   08/05/2023      4  0,7\n",
      "199  34256    adam    Banana       1   21/04/2023      5    1\n",
      "200  34256    adam     Pasta       3   13/05/2023      4  0,8\n",
      "\n",
      "[201 rows x 7 columns]\n",
      "Index(['ID', 'user_id', 'food_item', 'jumlah', 'tanggal_beli', 'stock',\n",
      "       'like'],\n",
      "      dtype='object')\n"
     ]
    }
   ],
   "source": [
    "# 1. Membaca data\n",
    "data = pd.read_csv('Book1.csv', delimiter=';')  # Ganti 'dataset.csv' dengan nama file dataset yang sesuai\n",
    "\n",
    "print (data)\n",
    "print(data.columns)\n"
   ]
  },
  {
   "cell_type": "code",
   "execution_count": 229,
   "metadata": {},
   "outputs": [
    {
     "name": "stdout",
     "output_type": "stream",
     "text": [
      "    user_id food_item  jumlah tanggal_beli  stock like\n",
      "0      ibet     Apple       2   01/05/2023      4  0,8\n",
      "1      ibet    Banana       4   15/04/2023      9  0,8\n",
      "2      ibet    Orange       1   19/05/2023      7  0,6\n",
      "3      ibet    Tomato       3   28/04/2023      8  0,4\n",
      "4      ibet     Bread       2   10/05/2023      7  0,9\n",
      "..      ...       ...     ...          ...    ...  ...\n",
      "196    adam      Eggs       2   16/05/2023      6    1\n",
      "197    adam      Milk       1   24/04/2023     12  0,9\n",
      "198    adam      Rice       2   08/05/2023      4  0,7\n",
      "199    adam    Banana       1   21/04/2023      5    1\n",
      "200    adam     Pasta       3   13/05/2023      4  0,8\n",
      "\n",
      "[201 rows x 6 columns]\n"
     ]
    }
   ],
   "source": [
    "# fitur\n",
    "X = data[['user_id','food_item','jumlah','tanggal_beli','stock','like']]\n",
    "print (X)\n"
   ]
  },
  {
   "cell_type": "code",
   "execution_count": 230,
   "metadata": {},
   "outputs": [
    {
     "name": "stdout",
     "output_type": "stream",
     "text": [
      "food_item  Apple  Banana  Bread  Chicken  Eggs  Milk  Orange  Pasta  Rice   \n",
      "ID                                                                          \n",
      "12019          2       1      3        1     2     1       1      3     2  \\\n",
      "12321          2       1      3        1     2     1       1      3     2   \n",
      "18393          2       1      2        3     2     1       1      3     2   \n",
      "20198          2       1      3        1     2     1       1      3     2   \n",
      "20392          2       1      3        1     2     1       1      3     2   \n",
      "33452          2       1      3        1     2     1       1      3     2   \n",
      "34256          2       1      3        1     2     1       1      3     2   \n",
      "62845          2       1      2        3     2     1       1      3     2   \n",
      "65836          2       2      3        1     2     1       1      1     3   \n",
      "69326          2       1      3        1     2     1       1      3     2   \n",
      "72548          2       2      3        1     2     1       1      1     3   \n",
      "75836          2       4      2        2     1     1       1      5     3   \n",
      "83547          2       1      2        3     2     1       1      2     2   \n",
      "84920          2       1      3        1     2     1       1      3     2   \n",
      "85936          2       1      3        1     2     1       1      3     2   \n",
      "86637          1       3      1        1     2     1       2      2     2   \n",
      "89383          2       1      3        1     2     1       1      3     2   \n",
      "94725          2       1      2        3     2     1       1      3     2   \n",
      "98790          2       1      3        1     2     1       1      3     2   \n",
      "99886          2       1      3        1     2     1       1      3     2   \n",
      "\n",
      "food_item  Tomato  \n",
      "ID                 \n",
      "12019           2  \n",
      "12321           2  \n",
      "18393           1  \n",
      "20198           2  \n",
      "20392           2  \n",
      "33452           2  \n",
      "34256           2  \n",
      "62845           1  \n",
      "65836           2  \n",
      "69326           2  \n",
      "72548           2  \n",
      "75836           3  \n",
      "83547           1  \n",
      "84920           2  \n",
      "85936           2  \n",
      "86637           2  \n",
      "89383           2  \n",
      "94725           1  \n",
      "98790           2  \n",
      "99886           2  \n"
     ]
    }
   ],
   "source": [
    "#membuat user matriks \n",
    "user_item_matrix = data.pivot_table(index='ID', columns='food_item', values='jumlah')\n",
    "print(user_item_matrix)\n"
   ]
  },
  {
   "cell_type": "code",
   "execution_count": 231,
   "metadata": {},
   "outputs": [
    {
     "name": "stdout",
     "output_type": "stream",
     "text": [
      "[[1.         0.8302842  0.98692754 0.87588714 0.98701299 0.99381202\n",
      "  0.95049691 0.96144149 0.98213711 0.96034152]\n",
      " [0.8302842  1.         0.78943812 0.75125128 0.81400412 0.86248336\n",
      "  0.8936332  0.84366149 0.90872368 0.90288885]\n",
      " [0.98692754 0.78943812 1.         0.78962036 0.97752823 0.97746723\n",
      "  0.92869087 0.93622145 0.96468246 0.96533911]\n",
      " [0.87588714 0.75125128 0.78962036 1.         0.8605207  0.8743829\n",
      "  0.84348234 0.85836557 0.85772594 0.7575276 ]\n",
      " [0.98701299 0.81400412 0.97752823 0.8605207  1.         0.99381202\n",
      "  0.97425934 0.93522036 0.970445   0.94700344]\n",
      " [0.99381202 0.86248336 0.97746723 0.8743829  0.99381202 1.\n",
      "  0.97913005 0.96039208 0.98648766 0.96833426]\n",
      " [0.95049691 0.8936332  0.92869087 0.84348234 0.97425934 0.97913005\n",
      "  1.         0.92755488 0.96269074 0.95178588]\n",
      " [0.96144149 0.84366149 0.93622145 0.85836557 0.93522036 0.96039208\n",
      "  0.92755488 1.         0.93639848 0.9515245 ]\n",
      " [0.98213711 0.90872368 0.96468246 0.85772594 0.970445   0.98648766\n",
      "  0.96269074 0.93639848 1.         0.97266163]\n",
      " [0.96034152 0.90288885 0.96533911 0.7575276  0.94700344 0.96833426\n",
      "  0.95178588 0.9515245  0.97266163 1.        ]]\n"
     ]
    }
   ],
   "source": [
    "#matriks user item\n",
    "\n",
    "item_similarity_matrix = cosine_similarity(user_item_matrix.T)\n",
    "\n",
    "print(item_similarity_matrix)"
   ]
  },
  {
   "cell_type": "code",
   "execution_count": 232,
   "metadata": {},
   "outputs": [],
   "source": [
    "# Mendapatkan ID pengguna yang akan diberikan rekomendasi\n",
    "target_user_id = 18393\n",
    "\n"
   ]
  },
  {
   "cell_type": "code",
   "execution_count": 233,
   "metadata": {},
   "outputs": [
    {
     "name": "stdout",
     "output_type": "stream",
     "text": [
      "food_item\n",
      "Apple      2\n",
      "Banana     1\n",
      "Bread      2\n",
      "Chicken    3\n",
      "Eggs       2\n",
      "Milk       1\n",
      "Orange     1\n",
      "Pasta      3\n",
      "Rice       2\n",
      "Tomato     1\n",
      "Name: 18393, dtype: int64\n"
     ]
    }
   ],
   "source": [
    "# Mendapatkan riwayat interaksi pengguna\n",
    "user_interactions = user_item_matrix.loc[target_user_id]\n",
    "print (user_interactions)\n"
   ]
  },
  {
   "cell_type": "code",
   "execution_count": 234,
   "metadata": {},
   "outputs": [
    {
     "name": "stdout",
     "output_type": "stream",
     "text": [
      "Index([], dtype='object', name='food_item')\n"
     ]
    }
   ],
   "source": [
    "# Mendapatkan item-item yang belum diinteraksikan oleh pengguna\n",
    "uninteracted_items = user_interactions[user_interactions.isnull()].index\n",
    "\n",
    "print (uninteracted_items)\n",
    "\n"
   ]
  },
  {
   "cell_type": "code",
   "execution_count": 235,
   "metadata": {},
   "outputs": [
    {
     "name": "stdout",
     "output_type": "stream",
     "text": [
      "[17.15907582 15.12864395 16.69673722 15.56924906 16.98627453 17.21743045\n",
      " 16.76993649 16.79679321 17.04746608 16.6408567 ]\n"
     ]
    }
   ],
   "source": [
    "# Menghitung skor prediksi untuk item-item yang belum diinteraksikan\n",
    "item_scores = item_similarity_matrix.T.dot(user_interactions.fillna(0))\n",
    "print (item_scores)\n"
   ]
  },
  {
   "cell_type": "code",
   "execution_count": 236,
   "metadata": {},
   "outputs": [
    {
     "name": "stdout",
     "output_type": "stream",
     "text": [
      "Empty DataFrame\n",
      "Columns: [like]\n",
      "Index: []\n"
     ]
    }
   ],
   "source": [
    "# Membuat dataframe hasil rekomendasi\n",
    "recommendations = pd.DataFrame(item_scores, index=user_item_matrix.columns, columns=['like'])\n",
    "recommendations = recommendations.loc[uninteracted_items].sort_values(by='like', ascending=False)\n",
    "\n",
    "# Menampilkan daftar item-item rekomendasi\n",
    "print(recommendations)"
   ]
  },
  {
   "attachments": {},
   "cell_type": "markdown",
   "metadata": {},
   "source": []
  },
  {
   "cell_type": "code",
   "execution_count": null,
   "metadata": {},
   "outputs": [],
   "source": []
  }
 ],
 "metadata": {
  "kernelspec": {
   "display_name": "Python 3",
   "language": "python",
   "name": "python3"
  },
  "language_info": {
   "codemirror_mode": {
    "name": "ipython",
    "version": 3
   },
   "file_extension": ".py",
   "mimetype": "text/x-python",
   "name": "python",
   "nbconvert_exporter": "python",
   "pygments_lexer": "ipython3",
   "version": "3.10.6"
  },
  "orig_nbformat": 4
 },
 "nbformat": 4,
 "nbformat_minor": 2
}
