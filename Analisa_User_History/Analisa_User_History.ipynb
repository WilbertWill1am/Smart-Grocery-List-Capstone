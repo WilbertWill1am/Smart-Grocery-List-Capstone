{
 "cells": [
  {
   "cell_type": "code",
   "execution_count": null,
   "metadata": {},
   "outputs": [],
   "source": [
    "import pandas as pd\n",
    "from sklearn.metrics.pairwise import cosine_similarity\n",
    "import numpy as np"
   ]
  },
  {
   "cell_type": "code",
   "execution_count": null,
   "metadata": {},
   "outputs": [
    {
     "name": "stdout",
     "output_type": "stream",
     "text": [
      "  Nama_Produk Tanggal_Beli  Rata_Rata_Kadaluarsa\n",
      "0        BUAH   2023-01-05                     7\n",
      "1           B   2022-01-06                    14\n",
      "2           C   2022-01-05                     8\n",
      "3           D   2023-01-06                    15\n",
      "4           E   2022-01-05                     9\n",
      "5           F   2020-02-06                    16\n",
      "6           G   2022-01-05                    10\n",
      "7           H   2022-01-06                    17\n",
      "8           I   2022-01-05                    11\n",
      "9           J   2022-01-06                    60\n",
      "Index(['Nama_Produk', 'Tanggal_Beli', 'Rata_Rata_Kadaluarsa'], dtype='object')\n"
     ]
    }
   ],
   "source": [
    "# 1. Membaca data\n",
    "data = pd.read_csv('Book1.csv', delimiter=';')  # Ganti 'dataset.csv' dengan nama file dataset yang sesuai\n",
    "\n",
    "print (data)\n",
    "print(data.columns)\n"
   ]
  },
  {
   "cell_type": "code",
   "execution_count": 55,
   "metadata": {},
   "outputs": [
    {
     "name": "stdout",
     "output_type": "stream",
     "text": [
      "  Nama_Produk Tanggal_Beli  Rata_Rata_Kadaluarsa\n",
      "0        BUAH   2023-01-05                     7\n",
      "1           B   2022-01-06                    14\n",
      "2           C   2022-01-05                     8\n",
      "3           D   2023-01-06                    15\n",
      "4           E   2022-01-05                     9\n",
      "5           F   2020-02-06                    16\n",
      "6           G   2022-01-05                    10\n",
      "7           H   2022-01-06                    17\n",
      "8           I   2022-01-05                    11\n",
      "9           J   2022-01-06                    60\n"
     ]
    }
   ],
   "source": [
    "# fitur\n",
    "X = data[['user_id','food_item','jumlah','tanggal_beli','stock','rating']]\n",
    "print (X)"
   ]
  },
  {
   "cell_type": "code",
   "execution_count": 56,
   "metadata": {},
   "outputs": [
    {
     "name": "stdout",
     "output_type": "stream",
     "text": [
      "  Nama_Produk Tanggal_Beli  Rata_Rata_Kadaluarsa\n",
      "0        BUAH   2023-01-05                     7\n",
      "1           B   2022-01-06                    14\n",
      "2           C   2022-01-05                     8\n",
      "3           D   2023-01-06                    15\n",
      "4           E   2022-01-05                     9\n",
      "<class 'pandas.core.frame.DataFrame'>\n",
      "RangeIndex: 10 entries, 0 to 9\n",
      "Data columns (total 3 columns):\n",
      " #   Column                Non-Null Count  Dtype         \n",
      "---  ------                --------------  -----         \n",
      " 0   Nama_Produk           10 non-null     object        \n",
      " 1   Tanggal_Beli          10 non-null     datetime64[ns]\n",
      " 2   Rata_Rata_Kadaluarsa  10 non-null     int64         \n",
      "dtypes: datetime64[ns](1), int64(1), object(1)\n",
      "memory usage: 368.0+ bytes\n",
      "None\n",
      "              Tanggal_Beli  Rata_Rata_Kadaluarsa\n",
      "count                   10             10.000000\n",
      "mean   2022-01-08 12:00:00             16.700000\n",
      "min    2020-02-06 00:00:00              7.000000\n",
      "25%    2022-01-05 00:00:00              9.250000\n",
      "50%    2022-01-05 12:00:00             12.500000\n",
      "75%    2022-01-06 00:00:00             15.750000\n",
      "max    2023-01-06 00:00:00             60.000000\n",
      "std                    NaN             15.606623\n"
     ]
    }
   ],
   "source": [
    "#membuat user matriks \n",
    "user_item_matrix = data.pivot_table(index='ID', columns='food_item', values='jumlah')\n",
    "print(user_item_matrix)"
   ]
  },
  {
   "cell_type": "code",
   "execution_count": 57,
   "metadata": {},
   "outputs": [
    {
     "name": "stdout",
     "output_type": "stream",
     "text": [
      "Jumlah baris dan kolom dalam dataset: (10, 3)\n",
      "Jumlah kemunculan setiap nilai dalam kolom 'Nama_Produk':\n",
      "Nama_Produk\n",
      "BUAH    1\n",
      "B       1\n",
      "C       1\n",
      "D       1\n",
      "E       1\n",
      "F       1\n",
      "G       1\n",
      "H       1\n",
      "I       1\n",
      "J       1\n",
      "Name: count, dtype: int64\n",
      "Jumlah kemunculan setiap nilai dalam kolom 'Tanggal_Beli':\n",
      "Tanggal_Beli\n",
      "2022-01-05    4\n",
      "2022-01-06    3\n",
      "2023-01-05    1\n",
      "2023-01-06    1\n",
      "2020-02-06    1\n",
      "Name: count, dtype: int64\n"
     ]
    }
   ],
   "source": [
    "#matriks user item\n",
    "\n",
    "item_similarity_matrix = cosine_similarity(user_item_matrix.T)\n",
    "\n",
    "print(item_similarity_matrix)"
   ]
  },
  {
   "cell_type": "code",
   "execution_count": 58,
   "metadata": {},
   "outputs": [
    {
     "name": "stdout",
     "output_type": "stream",
     "text": [
      "  Nama_Produk Tanggal_Beli  Rata_Rata_Kadaluarsa       Hari  Bulan\n",
      "0        BUAH   2023-01-05                     7   Thursday      1\n",
      "1           B   2022-01-06                    14   Thursday      1\n",
      "2           C   2022-01-05                     8  Wednesday      1\n",
      "3           D   2023-01-06                    15     Friday      1\n",
      "4           E   2022-01-05                     9  Wednesday      1\n",
      "5           F   2020-02-06                    16   Thursday      2\n",
      "6           G   2022-01-05                    10  Wednesday      1\n",
      "7           H   2022-01-06                    17   Thursday      1\n",
      "8           I   2022-01-05                    11  Wednesday      1\n",
      "9           J   2022-01-06                    60   Thursday      1\n"
     ]
    }
   ],
   "source": [
    "# Mendapatkan ID pengguna yang akan diberikan rekomendasi\n",
    "target_user_id = 18393\n",
    "\n"
   ]
  },
  {
   "cell_type": "code",
   "execution_count": 59,
   "metadata": {},
   "outputs": [
    {
     "name": "stdout",
     "output_type": "stream",
     "text": [
      "Jumlah data train set: 8\n",
      "Jumlah data test set: 2\n"
     ]
    }
   ],
   "source": [
    "# Mendapatkan riwayat interaksi pengguna\n",
    "user_interactions = user_item_matrix.loc[target_user_id]\n",
    "print (user_interactions)\n",
    "\n",
    "# Mendapatkan item-item yang belum diinteraksikan oleh pengguna\n",
    "uninteracted_items = user_interactions[user_interactions.isnull()].index\n",
    "print (uninteracted_items)\n",
    "\n",
    "# Menghitung skor prediksi untuk item-item yang belum diinteraksikan\n",
    "item_scores = item_similarity_matrix.T.dot(user_interactions.fillna(0))\n",
    "print (item_scores)"
   ]
  },
  {
   "cell_type": "code",
   "execution_count": 60,
   "metadata": {},
   "outputs": [
    {
     "name": "stdout",
     "output_type": "stream",
     "text": [
      "0    1\n",
      "1    1\n",
      "2    2\n",
      "3    0\n",
      "4    2\n",
      "5    1\n",
      "6    2\n",
      "7    1\n",
      "8    2\n",
      "9    1\n",
      "Name: Hari, dtype: int32\n",
      "   Hari  Bulan\n",
      "0     1      1\n",
      "1     1      1\n",
      "2     2      1\n",
      "3     0      1\n",
      "4     2      1\n",
      "5     1      2\n",
      "6     2      1\n",
      "7     1      1\n",
      "8     2      1\n",
      "9     1      1\n"
     ]
    },
    {
     "name": "stderr",
     "output_type": "stream",
     "text": [
      "C:\\Users\\HP\\AppData\\Local\\Temp\\ipykernel_9144\\1317635880.py:3: SettingWithCopyWarning: \n",
      "A value is trying to be set on a copy of a slice from a DataFrame.\n",
      "Try using .loc[row_indexer,col_indexer] = value instead\n",
      "\n",
      "See the caveats in the documentation: https://pandas.pydata.org/pandas-docs/stable/user_guide/indexing.html#returning-a-view-versus-a-copy\n",
      "  X['Hari'] = label_encoder.fit_transform(X['Hari'])\n",
      "C:\\Users\\HP\\AppData\\Local\\Temp\\ipykernel_9144\\1317635880.py:7: SettingWithCopyWarning: \n",
      "A value is trying to be set on a copy of a slice from a DataFrame.\n",
      "Try using .loc[row_indexer,col_indexer] = value instead\n",
      "\n",
      "See the caveats in the documentation: https://pandas.pydata.org/pandas-docs/stable/user_guide/indexing.html#returning-a-view-versus-a-copy\n",
      "  X['Hari'] = pd.to_numeric(X['Hari'], errors='coerce')\n"
     ]
    }
   ],
   "source": [
    "# Membuat dataframe hasil rekomendasi\n",
    "recommendations = pd.DataFrame(item_scores, index=user_item_matrix.columns, columns=['rating'])\n",
    "recommendations = recommendations.loc[uninteracted_items].sort_values(by='rating', ascending=False)\n",
    "\n",
    "# Menampilkan daftar item-item rekomendasi\n",
    "print(recommendations)"
   ]
  },
  {
   "cell_type": "code",
   "execution_count": 62,
   "metadata": {},
   "outputs": [
    {
     "ename": "ValueError",
     "evalue": "Failed to convert a NumPy array to a Tensor (Unsupported object type int).",
     "output_type": "error",
     "traceback": [
      "\u001b[1;31m---------------------------------------------------------------------------\u001b[0m",
      "\u001b[1;31mValueError\u001b[0m                                Traceback (most recent call last)",
      "Cell \u001b[1;32mIn[62], line 11\u001b[0m\n\u001b[0;32m      8\u001b[0m model\u001b[39m.\u001b[39mcompile(loss\u001b[39m=\u001b[39m\u001b[39m'\u001b[39m\u001b[39mmean_squared_error\u001b[39m\u001b[39m'\u001b[39m, optimizer\u001b[39m=\u001b[39m\u001b[39m'\u001b[39m\u001b[39madam\u001b[39m\u001b[39m'\u001b[39m)\n\u001b[0;32m     10\u001b[0m \u001b[39m# Melatih model pada data train set\u001b[39;00m\n\u001b[1;32m---> 11\u001b[0m model\u001b[39m.\u001b[39;49mfit(X_train, y_train, epochs\u001b[39m=\u001b[39;49m\u001b[39m100\u001b[39;49m, batch_size\u001b[39m=\u001b[39;49m\u001b[39m2\u001b[39;49m, verbose\u001b[39m=\u001b[39;49m\u001b[39m1\u001b[39;49m)\n\u001b[0;32m     13\u001b[0m \u001b[39m# Evaluasi model pada data test set\u001b[39;00m\n\u001b[0;32m     14\u001b[0m loss \u001b[39m=\u001b[39m model\u001b[39m.\u001b[39mevaluate(X_test, y_test)\n",
      "File \u001b[1;32mc:\\Users\\HP\\AppData\\Local\\Programs\\Python\\Python310\\lib\\site-packages\\keras\\utils\\traceback_utils.py:70\u001b[0m, in \u001b[0;36mfilter_traceback.<locals>.error_handler\u001b[1;34m(*args, **kwargs)\u001b[0m\n\u001b[0;32m     67\u001b[0m     filtered_tb \u001b[39m=\u001b[39m _process_traceback_frames(e\u001b[39m.\u001b[39m__traceback__)\n\u001b[0;32m     68\u001b[0m     \u001b[39m# To get the full stack trace, call:\u001b[39;00m\n\u001b[0;32m     69\u001b[0m     \u001b[39m# `tf.debugging.disable_traceback_filtering()`\u001b[39;00m\n\u001b[1;32m---> 70\u001b[0m     \u001b[39mraise\u001b[39;00m e\u001b[39m.\u001b[39mwith_traceback(filtered_tb) \u001b[39mfrom\u001b[39;00m \u001b[39mNone\u001b[39;00m\n\u001b[0;32m     71\u001b[0m \u001b[39mfinally\u001b[39;00m:\n\u001b[0;32m     72\u001b[0m     \u001b[39mdel\u001b[39;00m filtered_tb\n",
      "File \u001b[1;32mc:\\Users\\HP\\AppData\\Local\\Programs\\Python\\Python310\\lib\\site-packages\\tensorflow\\python\\framework\\constant_op.py:103\u001b[0m, in \u001b[0;36mconvert_to_eager_tensor\u001b[1;34m(value, ctx, dtype)\u001b[0m\n\u001b[0;32m    101\u001b[0m     dtype \u001b[39m=\u001b[39m dtypes\u001b[39m.\u001b[39mas_dtype(dtype)\u001b[39m.\u001b[39mas_datatype_enum\n\u001b[0;32m    102\u001b[0m ctx\u001b[39m.\u001b[39mensure_initialized()\n\u001b[1;32m--> 103\u001b[0m \u001b[39mreturn\u001b[39;00m ops\u001b[39m.\u001b[39;49mEagerTensor(value, ctx\u001b[39m.\u001b[39;49mdevice_name, dtype)\n",
      "\u001b[1;31mValueError\u001b[0m: Failed to convert a NumPy array to a Tensor (Unsupported object type int)."
     ]
    }
   ],
   "source": []
  },
  {
   "cell_type": "code",
   "execution_count": null,
   "metadata": {},
   "outputs": [],
   "source": []
  }
 ],
 "metadata": {
  "kernelspec": {
   "display_name": "Python 3",
   "language": "python",
   "name": "python3"
  },
  "language_info": {
   "codemirror_mode": {
    "name": "ipython",
    "version": 3
   },
   "file_extension": ".py",
   "mimetype": "text/x-python",
   "name": "python",
   "nbconvert_exporter": "python",
   "pygments_lexer": "ipython3",
   "version": "3.10.6"
  },
  "orig_nbformat": 4
 },
 "nbformat": 4,
 "nbformat_minor": 2
}
