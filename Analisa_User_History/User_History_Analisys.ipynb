{
 "cells": [
  {
   "attachments": {},
   "cell_type": "markdown",
   "metadata": {},
   "source": [
    "<h2>Smart Grocery User History Analysis</h2>\n",
    "\n",
    "_____\n",
    "\n",
    "The following code demonstrates a recommendation system for purchasing items based on historical data. It utilizes a TensorFlow model to predict the most recent item recommendation based on the provided date. The code reads a dataset containing purchase information, preprocesses the data, builds and trains a neural network model, and provides item recommendations for a given date. The model is evaluated, and the loss values are visualized using matplotlib. Additionally, the code includes a function to retrieve the top six recommendations based on the predictions.\n",
    "\n",
    "\n"
   ]
  },
  {
   "attachments": {},
   "cell_type": "markdown",
   "metadata": {},
   "source": [
    "# Libraries Imported\n",
    "____________________\n",
    "To run the code successfully, you need to have the following dependencies installed:\n",
    "\n",
    "- **tensorflow** (as *tf*) : A library for building and training machine learning models.\n",
    "- **pandas** (as *pd*) : A library for data manipulation and analysis.\n",
    "- **matplotlib.pyplot** (as *plt*) : A library for creating visualizations.\n",
    "- **numpy** (as *np*) : A library for mathematical operations on arrays.\n",
    "- **datetime** : A library for manipulating dates and times.\n",
    "- **sklearn.preprocessing.LabelEncoder** : A class for converting categorical labels into numerical values."
   ]
  },
  {
   "cell_type": "code",
   "execution_count": 2,
   "metadata": {},
   "outputs": [],
   "source": [
    "import tensorflow as tf\n",
    "import pandas as pd\n",
    "import matplotlib.pyplot as plt\n",
    "import numpy as np\n",
    "from datetime import datetime\n",
    "from sklearn.preprocessing import LabelEncoder"
   ]
  },
  {
   "attachments": {},
   "cell_type": "markdown",
   "metadata": {},
   "source": [
    "### Reading and Preprocessing the Dataset\n",
    "\n",
    "_____\n",
    "1. The code reads a dataset from a CSV file named **'Book2.csv'*** using the pd.read_csv() function and stores it in a DataFrame called **df***.\n",
    "\n",
    "2. The column 'Item Pembelian' is converted to a string data type using the **astype()*** method.\n",
    "\n",
    "3. The column 'Tanggal Pembelian' is converted to a pandas **Datetime** data type using the **pd.to_datetime()** function, specifying the day comes first in the format.\n",
    "\n",
    "4. The 'Tanggal Pembelian' column is further converted to a numerical representation by applying the **toordinal()** method to each date value and storing the result in a new column called 'Tanggal Numerik'."
   ]
  },
  {
   "cell_type": "code",
   "execution_count": 3,
   "metadata": {},
   "outputs": [],
   "source": [
    "# Membaca dataset dan mengubah format tanggal\n",
    "df = pd.read_csv('Book2.csv', delimiter=';')\n",
    "\n",
    "df['Item Pembelian']=df['Item Pembelian'].astype(str)\n",
    "df['Tanggal Pembelian'] = pd.to_datetime(df['Tanggal Pembelian'], dayfirst=True, format='mixed')\n",
    "\n",
    "# Mengonversi tanggal menjadi nilai numerik yang dapat digunakan dalam model\n",
    "df['Tanggal Numerik'] = df['Tanggal Pembelian'].apply(lambda x: x.toordinal())"
   ]
  },
  {
   "cell_type": "code",
   "execution_count": 4,
   "metadata": {},
   "outputs": [
    {
     "name": "stdout",
     "output_type": "stream",
     "text": [
      "0     makaroni\n",
      "1       daging\n",
      "2         ayam\n",
      "3         keju\n",
      "4          oil\n",
      "        ...   \n",
      "85       beras\n",
      "86      rempah\n",
      "87        gula\n",
      "88        cabe\n",
      "89        ikan\n",
      "Name: Item Pembelian, Length: 90, dtype: object\n"
     ]
    }
   ],
   "source": [
    "print(df['Item Pembelian'])"
   ]
  },
  {
   "cell_type": "code",
   "execution_count": 5,
   "metadata": {},
   "outputs": [
    {
     "name": "stdout",
     "output_type": "stream",
     "text": [
      "0     738156\n",
      "1     738276\n",
      "2     738368\n",
      "3     738490\n",
      "4     738170\n",
      "       ...  \n",
      "85    738446\n",
      "86    738449\n",
      "87    738452\n",
      "88    738455\n",
      "89    738458\n",
      "Name: Tanggal Numerik, Length: 90, dtype: int64\n"
     ]
    }
   ],
   "source": [
    "print(df['Tanggal Numerik'])"
   ]
  },
  {
   "attachments": {},
   "cell_type": "markdown",
   "metadata": {},
   "source": [
    "## Building the TensorFlow Model\n",
    "\n",
    "----\n",
    "1. The code defines a sequential model using **tf.keras.models.Sequential()**, which is a linear stack of layers.\n",
    "2. Three dense layers are added to the model using **tf.keras.layers.Dense():**\n",
    "    - The first two layers have 32 units and use the ReLU activation function.\n",
    "    - The final layer has 1 unit and serves as the output layer.\n",
    "3. The model is compiled using **model.compile()**, specifying the optimizer as 'adam' and the loss function as 'mean_squared_error'."
   ]
  },
  {
   "cell_type": "code",
   "execution_count": 6,
   "metadata": {},
   "outputs": [],
   "source": [
    "# Membangun model dengan TensorFlow\n",
    "model = tf.keras.models.Sequential([\n",
    "    tf.keras.layers.Dense(32, activation='relu', input_shape=(1,)),\n",
    "    tf.keras.layers.Dense(32, activation='relu'),\n",
    "    tf.keras.layers.Dense(1)\n",
    "])\n",
    "\n",
    "model.compile(optimizer='adam', loss='mean_squared_error')\n",
    "\n",
    "# Mengubah kolom inventaris menjadi array target\n",
    "target = df['Item Pembelian'].values\n",
    "\n",
    "# Mengubah kolom tanggal menjadi array fitur\n",
    "features = df['Tanggal Numerik'].values.reshape((-1, 1))\n"
   ]
  },
  {
   "attachments": {},
   "cell_type": "markdown",
   "metadata": {},
   "source": [
    "# Encoding Labels and Splitting Data\n",
    "\n",
    "___\n",
    "1. The 'Item Pembelian' column is extracted from the DataFrame and converted to a NumPy array named **target**.\n",
    "\n",
    "2. The 'Tanggal Numerik' column is extracted from the DataFrame and reshaped into a 2D array named **features**.\n",
    "\n",
    "3. An instance of the LabelEncoder class is created and stored in label_encoder.\n",
    "\n",
    "4. The **fit_transform()** method of **label_encoder** is applied to **target** to convert the categorical labels into numerical values, resulting in **target_encoded**.\n",
    "\n",
    "5. The data is split into training and validation sets using a specified train_ratio:\n",
    "    - *'train_size'* is calculated as the integer part of the product of *train_ratio* and the length of *features*.\n",
    "    - The arrays *features_train* and *features_val* are created by splitting features accordingly.\n",
    "    - The arrays target_train and target_val are created by splitting *target_encoded* accordingly."
   ]
  },
  {
   "cell_type": "code",
   "execution_count": null,
   "metadata": {},
   "outputs": [],
   "source": [
    "# Membuat objek LabelEncoder\n",
    "label_encoder = LabelEncoder()\n",
    "\n",
    "# Mengonversi label kategori menjadi nilai numerik\n",
    "target_encoded = label_encoder.fit_transform(target)\n",
    "\n",
    "# Memisahkan data menjadi data latih dan data validasi\n",
    "train_ratio = 0.8\n",
    "train_size = int(train_ratio * len(features))\n",
    "features_train, features_val = features[:train_size], features[train_size:]\n",
    "target_train, target_val = target_encoded[:train_size], target_encoded[train_size:]"
   ]
  },
  {
   "attachments": {},
   "cell_type": "markdown",
   "metadata": {},
   "source": [
    "# Training and Evaluating the Model\n",
    "\n",
    "___\n",
    "\n",
    "1. The model is trained using the **fit()** method, passing in **features_train** and **target_train** as training data, and **features_val** and **target_val** as validation data. The **epochs** parameter is set to 100.\n",
    "\n",
    "2. The training loss and validation loss values for each epoch are stored in **history**.\n",
    "\n",
    "3. The model's loss on the validation set is evaluated using **model.evaluate()**, and the result is stored in **loss**."
   ]
  },
  {
   "cell_type": "code",
   "execution_count": 7,
   "metadata": {},
   "outputs": [
    {
     "name": "stdout",
     "output_type": "stream",
     "text": [
      "Epoch 1/100\n",
      "3/3 [==============================] - 1s 78ms/step - loss: 101994700800.0000 - val_loss: 86996197376.0000\n",
      "Epoch 2/100\n",
      "3/3 [==============================] - 0s 15ms/step - loss: 83024150528.0000 - val_loss: 69906194432.0000\n",
      "Epoch 3/100\n",
      "3/3 [==============================] - 0s 14ms/step - loss: 66470010880.0000 - val_loss: 55179804672.0000\n",
      "Epoch 4/100\n",
      "3/3 [==============================] - 0s 14ms/step - loss: 52256559104.0000 - val_loss: 42705510400.0000\n",
      "Epoch 5/100\n",
      "3/3 [==============================] - 0s 15ms/step - loss: 40262811648.0000 - val_loss: 32329076736.0000\n",
      "Epoch 6/100\n",
      "3/3 [==============================] - 0s 14ms/step - loss: 30326568960.0000 - val_loss: 23864895488.0000\n",
      "Epoch 7/100\n",
      "3/3 [==============================] - 0s 15ms/step - loss: 22257225728.0000 - val_loss: 17107723264.0000\n",
      "Epoch 8/100\n",
      "3/3 [==============================] - 0s 15ms/step - loss: 15847085056.0000 - val_loss: 11843371008.0000\n",
      "Epoch 9/100\n",
      "3/3 [==============================] - 0s 14ms/step - loss: 10881470464.0000 - val_loss: 7857417728.0000\n",
      "Epoch 10/100\n",
      "3/3 [==============================] - 0s 14ms/step - loss: 7147057664.0000 - val_loss: 4941584896.0000\n",
      "Epoch 11/100\n",
      "3/3 [==============================] - 0s 14ms/step - loss: 4437748224.0000 - val_loss: 2898242304.0000\n",
      "Epoch 12/100\n",
      "3/3 [==============================] - 0s 14ms/step - loss: 2588254720.0000 - val_loss: 1674848000.0000\n",
      "Epoch 13/100\n",
      "3/3 [==============================] - 0s 15ms/step - loss: 1478234624.0000 - val_loss: 892972224.0000\n",
      "Epoch 14/100\n",
      "3/3 [==============================] - 0s 15ms/step - loss: 771137984.0000 - val_loss: 417964960.0000\n",
      "Epoch 15/100\n",
      "3/3 [==============================] - 0s 15ms/step - loss: 349039488.0000 - val_loss: 157255216.0000\n",
      "Epoch 16/100\n",
      "3/3 [==============================] - 0s 14ms/step - loss: 123649576.0000 - val_loss: 37027116.0000\n",
      "Epoch 17/100\n",
      "3/3 [==============================] - 0s 14ms/step - loss: 25149206.0000 - val_loss: 955272.2500\n",
      "Epoch 18/100\n",
      "3/3 [==============================] - 0s 14ms/step - loss: 847141.1875 - val_loss: 8359215.0000\n",
      "Epoch 19/100\n",
      "3/3 [==============================] - 0s 14ms/step - loss: 13151712.0000 - val_loss: 31863972.0000\n",
      "Epoch 20/100\n",
      "3/3 [==============================] - 0s 14ms/step - loss: 37396656.0000 - val_loss: 55498484.0000\n",
      "Epoch 21/100\n",
      "3/3 [==============================] - 0s 14ms/step - loss: 59607204.0000 - val_loss: 71425272.0000\n",
      "Epoch 22/100\n",
      "3/3 [==============================] - 0s 15ms/step - loss: 73329504.0000 - val_loss: 77353416.0000\n",
      "Epoch 23/100\n",
      "3/3 [==============================] - 0s 15ms/step - loss: 77139456.0000 - val_loss: 74329800.0000\n",
      "Epoch 24/100\n",
      "3/3 [==============================] - 0s 14ms/step - loss: 72530016.0000 - val_loss: 64994672.0000\n",
      "Epoch 25/100\n",
      "3/3 [==============================] - 0s 14ms/step - loss: 62282460.0000 - val_loss: 52349872.0000\n",
      "Epoch 26/100\n",
      "3/3 [==============================] - 0s 14ms/step - loss: 49345512.0000 - val_loss: 39009408.0000\n",
      "Epoch 27/100\n",
      "3/3 [==============================] - 0s 15ms/step - loss: 36179228.0000 - val_loss: 26844122.0000\n",
      "Epoch 28/100\n",
      "3/3 [==============================] - 0s 14ms/step - loss: 24471618.0000 - val_loss: 16915142.0000\n",
      "Epoch 29/100\n",
      "3/3 [==============================] - 0s 15ms/step - loss: 15118434.0000 - val_loss: 9584364.0000\n",
      "Epoch 30/100\n",
      "3/3 [==============================] - 0s 14ms/step - loss: 8355756.5000 - val_loss: 4709812.5000\n",
      "Epoch 31/100\n",
      "3/3 [==============================] - 0s 14ms/step - loss: 3963617.7500 - val_loss: 1854972.1250\n",
      "Epoch 32/100\n",
      "3/3 [==============================] - 0s 14ms/step - loss: 1471365.0000 - val_loss: 469689.5625\n",
      "Epoch 33/100\n",
      "3/3 [==============================] - 0s 14ms/step - loss: 325804.6875 - val_loss: 20885.9121\n",
      "Epoch 34/100\n",
      "3/3 [==============================] - 0s 14ms/step - loss: 11737.3320 - val_loss: 69904.4922\n",
      "Epoch 35/100\n",
      "3/3 [==============================] - 0s 14ms/step - loss: 117331.7344 - val_loss: 303621.1562\n",
      "Epoch 36/100\n",
      "3/3 [==============================] - 0s 14ms/step - loss: 358581.2500 - val_loss: 532315.6875\n",
      "Epoch 37/100\n",
      "3/3 [==============================] - 0s 14ms/step - loss: 569451.6250 - val_loss: 666959.6250\n",
      "Epoch 38/100\n",
      "3/3 [==============================] - 0s 15ms/step - loss: 678748.1250 - val_loss: 688936.5625\n",
      "Epoch 39/100\n",
      "3/3 [==============================] - 0s 14ms/step - loss: 678423.2500 - val_loss: 619778.6875\n",
      "Epoch 40/100\n",
      "3/3 [==============================] - 0s 14ms/step - loss: 594926.6875 - val_loss: 497168.1562\n",
      "Epoch 41/100\n",
      "3/3 [==============================] - 0s 13ms/step - loss: 466619.4375 - val_loss: 358227.9688\n",
      "Epoch 42/100\n",
      "3/3 [==============================] - 0s 15ms/step - loss: 328824.8750 - val_loss: 230745.2500\n",
      "Epoch 43/100\n",
      "3/3 [==============================] - 0s 14ms/step - loss: 206705.6094 - val_loss: 130362.2500\n",
      "Epoch 44/100\n",
      "3/3 [==============================] - 0s 14ms/step - loss: 113356.4531 - val_loss: 61796.2578\n",
      "Epoch 45/100\n",
      "3/3 [==============================] - 0s 15ms/step - loss: 51497.5742 - val_loss: 22084.3438\n",
      "Epoch 46/100\n",
      "3/3 [==============================] - 0s 16ms/step - loss: 17056.8047 - val_loss: 4176.9155\n",
      "Epoch 47/100\n",
      "3/3 [==============================] - 0s 15ms/step - loss: 2648.9229 - val_loss: 17.3560\n",
      "Epoch 48/100\n",
      "3/3 [==============================] - 0s 28ms/step - loss: 348.3436 - val_loss: 2606.4658\n",
      "Epoch 49/100\n",
      "3/3 [==============================] - 0s 15ms/step - loss: 3534.7676 - val_loss: 6958.2163\n",
      "Epoch 50/100\n",
      "3/3 [==============================] - 0s 14ms/step - loss: 7750.8574 - val_loss: 10258.6719\n",
      "Epoch 51/100\n",
      "3/3 [==============================] - 0s 14ms/step - loss: 10600.1172 - val_loss: 11460.4375\n",
      "Epoch 52/100\n",
      "3/3 [==============================] - 0s 14ms/step - loss: 11330.9170 - val_loss: 10689.4102\n",
      "Epoch 53/100\n",
      "3/3 [==============================] - 0s 15ms/step - loss: 10231.7793 - val_loss: 8649.7686\n",
      "Epoch 54/100\n",
      "3/3 [==============================] - 0s 15ms/step - loss: 8046.1182 - val_loss: 6141.5732\n",
      "Epoch 55/100\n",
      "3/3 [==============================] - 0s 13ms/step - loss: 5556.8560 - val_loss: 3804.5989\n",
      "Epoch 56/100\n",
      "3/3 [==============================] - 0s 14ms/step - loss: 3328.6299 - val_loss: 1999.4548\n",
      "Epoch 57/100\n",
      "3/3 [==============================] - 0s 15ms/step - loss: 1679.7053 - val_loss: 830.8663\n",
      "Epoch 58/100\n",
      "3/3 [==============================] - 0s 15ms/step - loss: 649.9302 - val_loss: 227.8073\n",
      "Epoch 59/100\n",
      "3/3 [==============================] - 0s 14ms/step - loss: 159.2503 - val_loss: 23.7574\n",
      "Epoch 60/100\n",
      "3/3 [==============================] - 0s 14ms/step - loss: 20.3490 - val_loss: 42.8846\n",
      "Epoch 61/100\n",
      "3/3 [==============================] - 0s 14ms/step - loss: 67.2804 - val_loss: 141.1941\n",
      "Epoch 62/100\n",
      "3/3 [==============================] - 0s 14ms/step - loss: 169.6748 - val_loss: 229.1866\n",
      "Epoch 63/100\n",
      "3/3 [==============================] - 0s 15ms/step - loss: 249.8537 - val_loss: 268.5628\n",
      "Epoch 64/100\n",
      "3/3 [==============================] - 0s 15ms/step - loss: 277.8149 - val_loss: 256.6380\n",
      "Epoch 65/100\n",
      "3/3 [==============================] - 0s 15ms/step - loss: 256.5044 - val_loss: 210.0422\n",
      "Epoch 66/100\n",
      "3/3 [==============================] - 0s 14ms/step - loss: 204.2440 - val_loss: 148.7458\n",
      "Epoch 67/100\n",
      "3/3 [==============================] - 0s 14ms/step - loss: 141.9588 - val_loss: 91.4343\n",
      "Epoch 68/100\n",
      "3/3 [==============================] - 0s 14ms/step - loss: 85.4343 - val_loss: 49.2064\n",
      "Epoch 69/100\n",
      "3/3 [==============================] - 0s 15ms/step - loss: 46.8762 - val_loss: 24.3820\n",
      "Epoch 70/100\n",
      "3/3 [==============================] - 0s 15ms/step - loss: 22.9183 - val_loss: 14.5004\n",
      "Epoch 71/100\n",
      "3/3 [==============================] - 0s 14ms/step - loss: 14.1737 - val_loss: 14.0043\n",
      "Epoch 72/100\n",
      "3/3 [==============================] - 0s 14ms/step - loss: 14.4413 - val_loss: 17.6058\n",
      "Epoch 73/100\n",
      "3/3 [==============================] - 0s 15ms/step - loss: 17.4355 - val_loss: 21.3258\n",
      "Epoch 74/100\n",
      "3/3 [==============================] - 0s 15ms/step - loss: 20.4984 - val_loss: 23.2758\n",
      "Epoch 75/100\n",
      "3/3 [==============================] - 0s 14ms/step - loss: 21.9310 - val_loss: 23.4317\n",
      "Epoch 76/100\n",
      "3/3 [==============================] - 0s 14ms/step - loss: 21.8082 - val_loss: 22.1979\n",
      "Epoch 77/100\n",
      "3/3 [==============================] - 0s 14ms/step - loss: 20.4735 - val_loss: 19.9558\n",
      "Epoch 78/100\n",
      "3/3 [==============================] - 0s 18ms/step - loss: 18.3848 - val_loss: 17.6365\n",
      "Epoch 79/100\n",
      "3/3 [==============================] - 0s 15ms/step - loss: 16.4252 - val_loss: 15.6964\n",
      "Epoch 80/100\n",
      "3/3 [==============================] - 0s 14ms/step - loss: 14.7827 - val_loss: 14.4748\n",
      "Epoch 81/100\n",
      "3/3 [==============================] - 0s 15ms/step - loss: 13.9207 - val_loss: 13.7216\n",
      "Epoch 82/100\n",
      "3/3 [==============================] - 0s 15ms/step - loss: 13.5963 - val_loss: 13.4528\n",
      "Epoch 83/100\n",
      "3/3 [==============================] - 0s 14ms/step - loss: 13.7041 - val_loss: 13.4231\n",
      "Epoch 84/100\n",
      "3/3 [==============================] - 0s 15ms/step - loss: 13.8533 - val_loss: 13.4550\n",
      "Epoch 85/100\n",
      "3/3 [==============================] - 0s 14ms/step - loss: 13.8780 - val_loss: 13.4627\n",
      "Epoch 86/100\n",
      "3/3 [==============================] - 0s 15ms/step - loss: 13.8787 - val_loss: 13.4489\n",
      "Epoch 87/100\n",
      "3/3 [==============================] - 0s 15ms/step - loss: 13.8701 - val_loss: 13.4582\n",
      "Epoch 88/100\n",
      "3/3 [==============================] - 0s 14ms/step - loss: 13.8715 - val_loss: 13.4550\n",
      "Epoch 89/100\n",
      "3/3 [==============================] - 0s 14ms/step - loss: 13.8613 - val_loss: 13.4374\n",
      "Epoch 90/100\n",
      "3/3 [==============================] - 0s 14ms/step - loss: 13.8256 - val_loss: 13.4307\n",
      "Epoch 91/100\n",
      "3/3 [==============================] - 0s 15ms/step - loss: 13.7846 - val_loss: 13.4239\n",
      "Epoch 92/100\n",
      "3/3 [==============================] - 0s 15ms/step - loss: 13.7705 - val_loss: 13.4270\n",
      "Epoch 93/100\n",
      "3/3 [==============================] - 0s 14ms/step - loss: 13.7525 - val_loss: 13.4363\n",
      "Epoch 94/100\n",
      "3/3 [==============================] - 0s 13ms/step - loss: 13.7364 - val_loss: 13.4302\n",
      "Epoch 95/100\n",
      "3/3 [==============================] - 0s 15ms/step - loss: 13.7140 - val_loss: 13.4393\n",
      "Epoch 96/100\n",
      "3/3 [==============================] - 0s 15ms/step - loss: 13.7222 - val_loss: 13.4435\n",
      "Epoch 97/100\n",
      "3/3 [==============================] - 0s 13ms/step - loss: 13.6871 - val_loss: 13.4355\n",
      "Epoch 98/100\n",
      "3/3 [==============================] - 0s 15ms/step - loss: 13.6745 - val_loss: 13.4375\n",
      "Epoch 99/100\n",
      "3/3 [==============================] - 0s 15ms/step - loss: 13.6715 - val_loss: 13.4388\n",
      "Epoch 100/100\n",
      "3/3 [==============================] - 0s 15ms/step - loss: 13.6726 - val_loss: 13.4620\n"
     ]
    }
   ],
   "source": [
    "# Melatih model dengan data latih dan mengevaluasi dengan data validasi\n",
    "history = model.fit(features_train, target_train, validation_data=(features_val, target_val), epochs=100)"
   ]
  },
  {
   "attachments": {},
   "cell_type": "markdown",
   "metadata": {},
   "source": [
    "___\n",
    "### Function for Item Recommendation\n",
    "___\n",
    "- A function named **get_item_recommendation(date)** is defined, which takes a date as input.\n",
    "\n",
    "- The input date is converted to a numerical format and stored in **date_numerik**.\n",
    "\n",
    "- The DataFrame **df** is filtered to include only rows with a 'Tanggal Numerik' value less than or equal to **date_numerik**, resulting in **filtered_df**.\n",
    "\n",
    "- The 'Tanggal Numerik' values from **filtered_df** are extracted and reshaped into a 2D array named **features**.\n",
    "\n",
    "- The model predicts the item recommendations by passing features through the model using **model.predict**, resulting in **predictions**.\n",
    "\n",
    "- The index of the highest predicted value for each prediction is found using **np.argmax()**, and the corresponding label is retrieved using **label_encoder.inverse_transform()**. The latest item recommendation is stored in **latest_item**.\n",
    "\n",
    "- The latest item recommendation is returned by the function."
   ]
  },
  {
   "cell_type": "code",
   "execution_count": 8,
   "metadata": {},
   "outputs": [],
   "source": [
    "def get_item_recommendation(date):\n",
    "    date_str = datetime.strptime(date, '%m/%d/%Y').strftime('%m-%d-%Y')\n",
    "    date_numerik = int(datetime.strptime(date_str, '%m-%d-%Y').strftime('%Y%m%d'))\n",
    "    filtered_df = df[df['Tanggal Numerik'] <= date_numerik]\n",
    "    features = filtered_df['Tanggal Numerik'].values.reshape((-1, 1))\n",
    "    predictions = model.predict(features)\n",
    "    latest_item_indices = np.argmax(predictions, axis=1)\n",
    "    latest_items = label_encoder.inverse_transform(latest_item_indices)\n",
    "    latest_item = latest_items[-1]  # Get the latest item recommendation\n",
    "    return latest_item"
   ]
  },
  {
   "attachments": {},
   "cell_type": "markdown",
   "metadata": {},
   "source": [
    "### Evaluating the Model and Printing Recommendations\n",
    "\n",
    "- The model's loss on the validation set is already evaluated and stored in **loss**.\n",
    "- The loss value is printed to the console.\n",
    "- The function **get_item_recommendation()** is called with a specified date, and the returned latest item recommendation is stored in **latest_item**.\n",
    "- The specified date and the latest item recommendation are printed to the console.\n",
    "\n",
    "### Plotting the Model's Loss\n",
    "- The training loss and validation loss values stored in **'history'*** are plotted using **'plt.plot()'***\n",
    "- The plot is given a title and labeled on the x and y axes.\n",
    "- A legend is added to differentiate the training loss and validation loss lines.\n",
    "- The plot is displayed using **'plt.show()'**"
   ]
  },
  {
   "cell_type": "code",
   "execution_count": 9,
   "metadata": {},
   "outputs": [
    {
     "name": "stdout",
     "output_type": "stream",
     "text": [
      "1/1 [==============================] - 0s 25ms/step - loss: 13.4620\n",
      "Loss: 13.461968421936035\n"
     ]
    },
    {
     "data": {
      "image/png": "[encoded data removed]",
      "text/plain": [
       "<Figure size 640x480 with 1 Axes>"
      ]
     },
     "metadata": {},
     "output_type": "display_data"
    }
   ],
   "source": [
    "# Evaluasi model\n",
    "loss = model.evaluate(features_val, target_val)\n",
    "print(f\"Loss: {loss}\")\n",
    "\n",
    "# Plot hasil evaluasi\n",
    "import matplotlib.pyplot as plt\n",
    "\n",
    "plt.plot(history.history['loss'], label='Training Loss')\n",
    "plt.plot(history.history['val_loss'], label='Validation Loss')\n",
    "plt.title('Model Loss')\n",
    "plt.xlabel('Epoch')\n",
    "plt.ylabel('Loss')\n",
    "plt.legend()\n",
    "plt.show()"
   ]
  },
  {
   "attachments": {},
   "cell_type": "markdown",
   "metadata": {},
   "source": [
    "### Getting Recommendations\n",
    "- A new column named 'Rekomendasi' is added to **df**, which stores the rounded prediction value for each 'Tanggal Numerik'.\n",
    "- **df** is sorted in descending order based on the 'Rekomendasi' column and the top 6 rows, specifically the 'Item Pembelian' column, are selected. These recommendations are stored in top rekomendtion."
   ]
  },
  {
   "cell_type": "code",
   "execution_count": 15,
   "metadata": {},
   "outputs": [
    {
     "name": "stdout",
     "output_type": "stream",
     "text": [
      "3/3 [==============================] - 0s 6ms/step\n",
      "Item yang harus dibeli pada tanggal 07/30/2022: ayam\n"
     ]
    }
   ],
   "source": [
    "# Contoh penggunaan\n",
    "date = '07/30/2022'\n",
    "latest_item = get_item_recommendation(date)\n",
    "print(f\"Item yang harus dibeli pada tanggal {date}: {latest_item}\")"
   ]
  },
  {
   "cell_type": "code",
   "execution_count": 25,
   "metadata": {},
   "outputs": [
    {
     "name": "stdout",
     "output_type": "stream",
     "text": [
      "1/1 [==============================] - 0s 54ms/step\n",
      "1/1 [==============================] - 0s 55ms/step\n",
      "1/1 [==============================] - 0s 47ms/step\n",
      "1/1 [==============================] - 0s 67ms/step\n",
      "1/1 [==============================] - 0s 42ms/step\n",
      "1/1 [==============================] - 0s 44ms/step\n",
      "1/1 [==============================] - 0s 47ms/step\n",
      "1/1 [==============================] - 0s 44ms/step\n",
      "1/1 [==============================] - 0s 52ms/step\n",
      "1/1 [==============================] - 0s 44ms/step\n",
      "1/1 [==============================] - 0s 47ms/step\n",
      "1/1 [==============================] - 0s 53ms/step\n",
      "1/1 [==============================] - 0s 45ms/step\n",
      "1/1 [==============================] - 0s 39ms/step\n",
      "1/1 [==============================] - 0s 47ms/step\n",
      "1/1 [==============================] - 0s 42ms/step\n",
      "1/1 [==============================] - 0s 47ms/step\n",
      "1/1 [==============================] - 0s 43ms/step\n",
      "1/1 [==============================] - 0s 50ms/step\n",
      "1/1 [==============================] - 0s 44ms/step\n",
      "1/1 [==============================] - 0s 50ms/step\n",
      "1/1 [==============================] - 0s 45ms/step\n",
      "1/1 [==============================] - 0s 49ms/step\n",
      "1/1 [==============================] - 0s 47ms/step\n",
      "1/1 [==============================] - 0s 50ms/step\n",
      "1/1 [==============================] - 0s 45ms/step\n",
      "1/1 [==============================] - 0s 43ms/step\n",
      "1/1 [==============================] - 0s 47ms/step\n",
      "1/1 [==============================] - 0s 48ms/step\n",
      "1/1 [==============================] - 0s 46ms/step\n",
      "1/1 [==============================] - 0s 40ms/step\n",
      "1/1 [==============================] - 0s 41ms/step\n",
      "1/1 [==============================] - 0s 47ms/step\n",
      "1/1 [==============================] - 0s 44ms/step\n",
      "1/1 [==============================] - 0s 45ms/step\n",
      "1/1 [==============================] - 0s 42ms/step\n",
      "1/1 [==============================] - 0s 41ms/step\n",
      "1/1 [==============================] - 0s 43ms/step\n",
      "1/1 [==============================] - 0s 39ms/step\n",
      "1/1 [==============================] - 0s 41ms/step\n",
      "1/1 [==============================] - 0s 40ms/step\n",
      "1/1 [==============================] - 0s 41ms/step\n",
      "1/1 [==============================] - 0s 44ms/step\n",
      "1/1 [==============================] - 0s 38ms/step\n",
      "1/1 [==============================] - 0s 40ms/step\n",
      "1/1 [==============================] - 0s 46ms/step\n",
      "1/1 [==============================] - 0s 40ms/step\n",
      "1/1 [==============================] - 0s 45ms/step\n",
      "1/1 [==============================] - 0s 39ms/step\n",
      "1/1 [==============================] - 0s 41ms/step\n",
      "1/1 [==============================] - 0s 40ms/step\n",
      "1/1 [==============================] - 0s 46ms/step\n",
      "1/1 [==============================] - 0s 45ms/step\n",
      "1/1 [==============================] - 0s 46ms/step\n",
      "1/1 [==============================] - 0s 46ms/step\n",
      "1/1 [==============================] - 0s 43ms/step\n",
      "1/1 [==============================] - 0s 46ms/step\n",
      "1/1 [==============================] - 0s 43ms/step\n",
      "1/1 [==============================] - 0s 44ms/step\n",
      "1/1 [==============================] - 0s 44ms/step\n",
      "1/1 [==============================] - 0s 47ms/step\n",
      "1/1 [==============================] - 0s 44ms/step\n",
      "1/1 [==============================] - 0s 51ms/step\n",
      "1/1 [==============================] - 0s 44ms/step\n",
      "1/1 [==============================] - 0s 46ms/step\n",
      "1/1 [==============================] - 0s 39ms/step\n",
      "1/1 [==============================] - 0s 42ms/step\n",
      "1/1 [==============================] - 0s 48ms/step\n",
      "1/1 [==============================] - 0s 35ms/step\n",
      "1/1 [==============================] - 0s 42ms/step\n",
      "1/1 [==============================] - 0s 47ms/step\n",
      "1/1 [==============================] - 0s 42ms/step\n",
      "1/1 [==============================] - 0s 41ms/step\n",
      "1/1 [==============================] - 0s 42ms/step\n",
      "1/1 [==============================] - 0s 34ms/step\n",
      "1/1 [==============================] - 0s 40ms/step\n",
      "1/1 [==============================] - 0s 53ms/step\n",
      "1/1 [==============================] - 0s 41ms/step\n",
      "1/1 [==============================] - 0s 44ms/step\n",
      "1/1 [==============================] - 0s 37ms/step\n",
      "1/1 [==============================] - 0s 40ms/step\n",
      "1/1 [==============================] - 0s 39ms/step\n",
      "1/1 [==============================] - 0s 39ms/step\n",
      "1/1 [==============================] - 0s 46ms/step\n",
      "1/1 [==============================] - 0s 49ms/step\n",
      "1/1 [==============================] - 0s 46ms/step\n",
      "1/1 [==============================] - 0s 40ms/step\n",
      "1/1 [==============================] - 0s 42ms/step\n",
      "1/1 [==============================] - 0s 43ms/step\n",
      "1/1 [==============================] - 0s 39ms/step\n"
     ]
    }
   ],
   "source": [
    "# Mendapatkan rekomendasi top 6\n",
    "df['Rekomendasi'] = df['Tanggal Numerik'].apply(lambda x: round(model.predict([[x]])[0][0]))\n",
    "top_10_rekomendasi = df.sort_values('Rekomendasi', ascending=False).head(10)[['Item Pembelian']]"
   ]
  },
  {
   "cell_type": "code",
   "execution_count": 26,
   "metadata": {},
   "outputs": [
    {
     "name": "stdout",
     "output_type": "stream",
     "text": [
      "Rekomendasi Top 10:\n",
      "   Item Pembelian\n",
      "0        makaroni\n",
      "67           gula\n",
      "65          beras\n",
      "64            oil\n",
      "63           susu\n",
      "62           ayam\n",
      "61         daging\n",
      "60          telur\n",
      "59           ikan\n",
      "58           cabe\n"
     ]
    }
   ],
   "source": [
    "print(\"Rekomendasi Top 10:\")\n",
    "print(top_10_rekomendasi)"
   ]
  },
  {
   "attachments": {},
   "cell_type": "markdown",
   "metadata": {},
   "source": [
    "## Saving the Model to H5pickle (HDF5 Format)\n",
    "T- he code saves the model to the H5pickle format using the **save()** method of the model object.\n",
    "\n",
    "- The **model.save()** function is used to save the model to the specified file **'User_History_Analisys.h5'**.\n",
    "- The model is saved in the HDF5 format, which is a file format designed to store and organize large amounts of numerical data.\n",
    "- The saved model includes the model architecture, model weights, optimizer state, and any additional configuration specified during model compilation."
   ]
  },
  {
   "cell_type": "code",
   "execution_count": 13,
   "metadata": {},
   "outputs": [],
   "source": [
    "#save model to h5\n",
    "import pickle\n",
    "\n",
    "model.save('User_History_Analisys.h5')\n",
    "\n"
   ]
  },
  {
   "attachments": {},
   "cell_type": "markdown",
   "metadata": {},
   "source": [
    "## Saving the Model to Pickle\n",
    "1. The code saves the model to a pickle file using the **pickle.dump()** function.\n",
    "- The **pickle.dump()** function is used to serialize the model object and save it to the specified file 'model.pickle'.\n",
    "- The file is opened in write-binary mode ('wb') to ensure compatibility with binary data.\n",
    "2. It's important to note that the HDF5 format (H5pickle) is typically used for saving the model architecture and weights, while the pickle format is more suitable for saving the entire model object."
   ]
  },
  {
   "cell_type": "code",
   "execution_count": 14,
   "metadata": {},
   "outputs": [],
   "source": [
    "#save model to pickle\n",
    "with open('model.pickle', 'wb') as f:\n",
    "    pickle.dump(model, f)\n",
    "f.close()"
   ]
  },
  {
   "cell_type": "code",
   "execution_count": null,
   "metadata": {},
   "outputs": [],
   "source": []
  }
 ],
 "metadata": {
  "kernelspec": {
   "display_name": "Python 3",
   "language": "python",
   "name": "python3"
  },
  "language_info": {
   "codemirror_mode": {
    "name": "ipython",
    "version": 3
   },
   "file_extension": ".py",
   "mimetype": "text/x-python",
   "name": "python",
   "nbconvert_exporter": "python",
   "pygments_lexer": "ipython3",
   "version": "3.10.6"
  },
  "orig_nbformat": 4
 },
 "nbformat": 4,
 "nbformat_minor": 2
}
